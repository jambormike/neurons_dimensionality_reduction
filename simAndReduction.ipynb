{
 "cells": [
  {
   "cell_type": "markdown",
   "id": "0cd2a6c3",
   "metadata": {},
   "source": [
    "## Imports"
   ]
  },
  {
   "cell_type": "code",
   "execution_count": 46,
   "id": "aef5e4cc",
   "metadata": {},
   "outputs": [],
   "source": [
    "import numpy as np\n",
    "import matplotlib.pyplot as plt\n",
    "import matplotlib.colors as clrs\n",
    "\n",
    "import random\n",
    "import time\n",
    "\n",
    "from matplotlib import cm\n",
    "from scipy.stats import zscore\n",
    "from sklearn.decomposition import PCA\n",
    "from sklearn.decomposition import FastICA\n",
    "from sklearn.manifold import SpectralEmbedding\n",
    "\n",
    "import umap"
   ]
  },
  {
   "cell_type": "markdown",
   "id": "4b638d22",
   "metadata": {},
   "source": [
    "### Initial assumptions"
   ]
  },
  {
   "cell_type": "code",
   "execution_count": 47,
   "id": "96aa7ef3",
   "metadata": {},
   "outputs": [],
   "source": [
    "# room dimensions in cm. (might break if changed)\n",
    "width = 140\n",
    "height = 140\n",
    "\n",
    "\n",
    "# number of simulated place cells\n",
    "n_cells = 1000"
   ]
  },
  {
   "cell_type": "markdown",
   "id": "e66010a5",
   "metadata": {},
   "source": [
    "## Place cell class"
   ]
  },
  {
   "cell_type": "code",
   "execution_count": 40,
   "id": "d29bf04d",
   "metadata": {},
   "outputs": [],
   "source": [
    "# place cell class\n",
    "\n",
    "class PlaceCell(object):\n",
    "\n",
    "    def __init__(self, mu, sigma):\n",
    "\n",
    "        self.mu = mu\n",
    "        self.sigma = sigma\n",
    "        \n",
    "    def gaussian(self, x):\n",
    "\n",
    "        xm = x - self.mu\n",
    "        sigma = self.sigma\n",
    "        \n",
    "        # factor1 = ((2*np.pi)**(-k/2)) * np.linalg.det(sigma)**(-1/2)              # normalization -- (turn into a number), peak firing rate\n",
    "        factor1 = 10            # peak firing rate/ amplitude\n",
    "        factor2 = np.exp((-1/2) * xm.T @ np.linalg.inv(sigma) @ xm)\n",
    "        result = factor1 * factor2\n",
    "        \n",
    "        return result\n",
    "        \n",
    "    def activity(self, x):\n",
    "        activity = np.random.poisson(self.gaussian(x))\n",
    "        return activity"
   ]
  },
  {
   "cell_type": "markdown",
   "id": "d797165c",
   "metadata": {},
   "source": [
    "## Generating and plotting place cells"
   ]
  },
  {
   "cell_type": "markdown",
   "id": "9138cea0",
   "metadata": {},
   "source": [
    "### Test cell"
   ]
  },
  {
   "cell_type": "code",
   "execution_count": 41,
   "id": "7b203c94",
   "metadata": {},
   "outputs": [],
   "source": [
    "# test cell\n",
    "\n",
    "testMu = np.array([[70],    #width\n",
    "                   [70]])   #height\n",
    "testSigma = np.array([[80, 0],\n",
    "                      [0, 80]])\n",
    "                      \n",
    "testCell = PlaceCell(testMu, testSigma)"
   ]
  },
  {
   "cell_type": "markdown",
   "id": "04071fd5",
   "metadata": {},
   "source": [
    "### Plotting test cell"
   ]
  },
  {
   "cell_type": "code",
   "execution_count": 42,
   "id": "178a927c",
   "metadata": {
    "scrolled": false
   },
   "outputs": [
    {
     "data": {
      "image/png": "[encoded data removed]",
      "text/plain": [
       "<Figure size 600x400 with 2 Axes>"
      ]
     },
     "metadata": {
      "needs_background": "light"
     },
     "output_type": "display_data"
    }
   ],
   "source": [
    "### plotting testCell ###\n",
    "\n",
    "def plotTestCell(height = height, width = width):\n",
    "    # be mindful of x and y indicies\n",
    "\n",
    "    x_coordinates = np.arange(start=0, stop= width +1, step=1)\n",
    "    y_coordinates = np.arange(start=0, stop= height +1, step=1)\n",
    "    xLen, yLen = len(x_coordinates), len(y_coordinates)\n",
    "\n",
    "    X, Y = np.meshgrid(x_coordinates, y_coordinates, indexing = 'xy')\n",
    "    Z = np.zeros((yLen, xLen))\n",
    "\n",
    "    for y in range(yLen):\n",
    "        for x in range(xLen):\n",
    "            element = np.array([[x_coordinates[x]],                         # important to be careful about the indexing\n",
    "                                [y_coordinates[y]]])\n",
    "            result = testCell.activity(element)\n",
    "            Z[y][x] = result\n",
    "\n",
    "    plt.figure(dpi=100)\n",
    "    plt.clf()\n",
    "    plt.contourf(X, Y, Z, cmap = 'jet')     # vmin=0, vmax=20\n",
    "    plt.colorbar(label = 'spikes/s', pad = -0.17)    \n",
    "    plt.title(\"Place cell activity plot\", size = 13)\n",
    "    plt.xlabel(\"cm\")\n",
    "    plt.ylabel(\"cm\")\n",
    "    plt.axis('square')\n",
    "    plt.show()\n",
    "    pass\n",
    "    \n",
    "# np.random.seed(10)\n",
    "plotTestCell(height, width)"
   ]
  },
  {
   "cell_type": "markdown",
   "id": "34dd4ee0",
   "metadata": {},
   "source": [
    "### Place Cells list"
   ]
  },
  {
   "cell_type": "code",
   "execution_count": 43,
   "id": "0815dd36",
   "metadata": {},
   "outputs": [],
   "source": [
    "def generatePlaceCells(n_cells, sigma, height = height, width = width):\n",
    "\n",
    "    cellsList = []\n",
    "    for i in range(n_cells):\n",
    "        # mu being location at which the cell is most active \n",
    "        mu = np.array([[random.uniform(0,width)],       # width\n",
    "                       [random.uniform(0,height)]])     # height\n",
    "        \n",
    "        cellsList.append(PlaceCell(mu, sigma))\n",
    "        \n",
    "    return cellsList"
   ]
  },
  {
   "cell_type": "code",
   "execution_count": 44,
   "id": "ea5dbf2a",
   "metadata": {},
   "outputs": [],
   "source": [
    "# generating cells list\n",
    "\n",
    "sigma = np.array([[80, 0],\n",
    "                  [0, 80]])\n",
    "\n",
    "random.seed(10)\n",
    "cellsList = generatePlaceCells(n_cells, sigma, height, width)\n",
    "\n",
    "# seedReset\n",
    "random.seed()"
   ]
  },
  {
   "cell_type": "code",
   "execution_count": 45,
   "id": "aed97e9d",
   "metadata": {},
   "outputs": [
    {
     "data": {
      "image/png": "[encoded data removed]",
      "text/plain": [
       "<Figure size 600x400 with 2 Axes>"
      ]
     },
     "metadata": {
      "needs_background": "light"
     },
     "output_type": "display_data"
    }
   ],
   "source": [
    "def plotCells(cellsList = cellsList, height = height, width = width):\n",
    "    # be mindful of x and y indicies\n",
    "\n",
    "    x_coordinates = np.arange(start=0, stop= width +1, step=1)\n",
    "    y_coordinates = np.arange(start=0, stop= height +1, step=1)\n",
    "    xLen, yLen = len(x_coordinates), len(y_coordinates)\n",
    "\n",
    "    X, Y = np.meshgrid(x_coordinates, y_coordinates, indexing = 'xy')\n",
    "    Z = np.zeros((yLen, xLen))\n",
    "\n",
    "    for y in range(yLen):\n",
    "        for x in range(xLen):\n",
    "            location = np.array([[x_coordinates[x]],                    # important to be careful about the indexing\n",
    "                                 [y_coordinates[y]]])\n",
    "            \n",
    "            for placeCell in cellsList:\n",
    "                locationActivity = placeCell.activity(location)\n",
    "\n",
    "                if Z[y][x] < locationActivity:\n",
    "                    Z[y][x] = locationActivity\n",
    "\n",
    "    plt.figure(dpi=100)\n",
    "    plt.clf()\n",
    "    plt.contourf(X, Y, Z, cmap = 'jet')\n",
    "    plt.colorbar(label = 'spikes/s', pad = -0.17)\n",
    "    plt.title(str(len(cellsList)) + \" place cells activity plot\", size = 13)\n",
    "    plt.xlabel(\"cm\")\n",
    "    plt.ylabel(\"cm\")\n",
    "    plt.axis('square')\n",
    "    plt.show()\n",
    "    pass\n",
    "\n",
    "# np.random.seed(10)\n",
    "plotCells()"
   ]
  },
  {
   "cell_type": "markdown",
   "id": "91eeea48",
   "metadata": {},
   "source": [
    "## Colormapping"
   ]
  },
  {
   "cell_type": "code",
   "execution_count": 35,
   "id": "7f5673ed",
   "metadata": {},
   "outputs": [],
   "source": [
    "def colormapLocation(coordinates, height = height, width = width):\n",
    "\n",
    "    normalizeX = clrs.Normalize(vmin = 0, vmax = width)\n",
    "    normalizeY = clrs.Normalize(vmin = 0, vmax = height)\n",
    "    normX, normY = normalizeX(coordinates[0,:]), normalizeY(coordinates[1,:])\n",
    "\n",
    "    # mapX = cm.get_cmap('Blues')\n",
    "    # mapY = cm.get_cmap('Reds')\n",
    "    mapX = cm.get_cmap('binary')\n",
    "    mapY = cm.get_cmap('spring')\n",
    "\n",
    "    colorValues_X = mapX(normX)\n",
    "    colorValues_Y = mapY(normY)\n",
    "    colorValues = (colorValues_X + colorValues_Y)/2\n",
    "\n",
    "    return colorValues"
   ]
  },
  {
   "cell_type": "code",
   "execution_count": 36,
   "id": "56fcdb9f",
   "metadata": {},
   "outputs": [
    {
     "data": {
      "image/png": "[encoded data removed]",
      "text/plain": [
       "<Figure size 600x400 with 1 Axes>"
      ]
     },
     "metadata": {
      "needs_background": "light"
     },
     "output_type": "display_data"
    }
   ],
   "source": [
    "def plotColormapEnvironment(height = height, width = width):\n",
    "\n",
    "    x_coordinates = np.arange(start=0, stop= width +1, step=1)\n",
    "    y_coordinates = np.arange(start=0, stop= height +1, step=1)\n",
    "    xLen, yLen = len(x_coordinates), len(y_coordinates)\n",
    "\n",
    "    dataLocation = []\n",
    "    for y in y_coordinates:\n",
    "        for x in x_coordinates:\n",
    "            location = np.array([[x],      #width\n",
    "                                 [y]])     #height\n",
    "            dataLocation.append(location)\n",
    "\n",
    "    colormap = colormapLocation(np.hstack(dataLocation))\n",
    "    environmentColorMap = colormap.reshape(yLen, xLen, 4)       ### I am very confused by the orther of the dimensions now\n",
    "\n",
    "    plt.figure(dpi=100)\n",
    "    plt.clf()\n",
    "    plt.imshow(environmentColorMap)\n",
    "\n",
    "    ## Run the code without the ticks. Then, it chooses strange numbers for x-axis. There is also a minor problem with 140 tick. There is originally 141 coordinates for both axes\n",
    "    plt.xticks([0,20,40,60,80,100,120,140])\n",
    "    plt.yticks([0,20,40,60,80,100,120,140], [140,120,100,80,60,40,20,0])\n",
    "\n",
    "    plt.title(\"Environment colormap\", size = 13)\n",
    "    plt.xlabel(\"cm\")\n",
    "    plt.ylabel(\"cm\")\n",
    "    plt.show()\n",
    "    pass\n",
    "\n",
    "plotColormapEnvironment()"
   ]
  },
  {
   "cell_type": "markdown",
   "id": "957a135c",
   "metadata": {},
   "source": [
    "# Generating data"
   ]
  },
  {
   "cell_type": "markdown",
   "id": "85eca9c7",
   "metadata": {},
   "source": [
    "### All-knowing mouse function (MasterMouse)"
   ]
  },
  {
   "cell_type": "code",
   "execution_count": null,
   "id": "556d2986",
   "metadata": {},
   "outputs": [],
   "source": [
    "def masterMouse(cellsList, nSteps=1, height = height, width = width):\n",
    "\n",
    "    # nSteps not used\n",
    "    x_coordinates = np.arange(start=0, stop= width +1, step=1)\n",
    "    y_coordinates = np.arange(start=0, stop= height +1, step=1)\n",
    "\n",
    "    data = []\n",
    "    dataLocation = []\n",
    "    for y in y_coordinates:\n",
    "        for x in x_coordinates:\n",
    "            location = np.array([[x],      #width\n",
    "                                 [y]])     #height\n",
    "            # dataLocation.append(location)\n",
    "            dataLocation.append(np.copy(location))\n",
    "\n",
    "            sample = []\n",
    "            for placeCell in cellsList:\n",
    "                sample.append(placeCell.activity(location))\n",
    "            data.append(np.hstack(np.copy(sample)))\n",
    "\n",
    "    data = np.vstack(data)\n",
    "    dataLocation = np.hstack(dataLocation)\n",
    "    # dataLocation = np.vstack(dataLocation)\n",
    "\n",
    "    return (data, dataLocation)"
   ]
  },
  {
   "cell_type": "code",
   "execution_count": null,
   "id": "94482a19",
   "metadata": {},
   "outputs": [],
   "source": [
    "# t = 1000 * time.time() # current time in milliseconds\n",
    "# np.random.seed(int(t) % 2**32)\n",
    "\n",
    "(masterMouseData, masterMouseDataLocation) = masterMouse(cellsList)"
   ]
  },
  {
   "cell_type": "code",
   "execution_count": null,
   "id": "4ced135c",
   "metadata": {},
   "outputs": [],
   "source": [
    "print(\"masterMouseData shape is \" + str(masterMouseData.shape))\n",
    "print(\"masterMouseDataLocation shape is \" + str(masterMouseDataLocation.shape))"
   ]
  },
  {
   "cell_type": "markdown",
   "id": "3a3651b2",
   "metadata": {},
   "source": [
    "### Randomly teleporting mouse function (RandomMouse)"
   ]
  },
  {
   "cell_type": "code",
   "execution_count": null,
   "id": "02d4bc46",
   "metadata": {},
   "outputs": [],
   "source": [
    "def randomMouse(cellsList, nSteps, height = height, width = width):\n",
    "\n",
    "    data = []\n",
    "    dataLocation = []\n",
    "    for i in range(nSteps):\n",
    "        location = np.array([[random.uniform(0,width)],\n",
    "                             [random.uniform(0,height)]])\n",
    "        # dataLocation.append(location)\n",
    "        dataLocation.append(np.copy(location))\n",
    "\n",
    "        sample = []\n",
    "        for placeCell in cellsList:\n",
    "            sample.append(placeCell.activity(location))\n",
    "        data.append(np.hstack(np.copy(sample)))\n",
    "        \n",
    "    data = np.vstack(data)\n",
    "    dataLocation = np.hstack(dataLocation)\n",
    "        \n",
    "    return (data, dataLocation)"
   ]
  },
  {
   "cell_type": "code",
   "execution_count": null,
   "id": "0b258189",
   "metadata": {},
   "outputs": [],
   "source": [
    "# np.random.seed(10)                # I think that if I set this seed then locations are not random (as intended), but also poisson random process is not random.\n",
    "\n",
    "# t = 1000 * time.time()              # current time in milliseconds\n",
    "# np.random.seed(int(t) % 2**32)      # reset the seed (if set), so it does not affect the Poisson random process\n",
    "\n",
    "(randomMouseData, randomMouseDataLocation) = randomMouse(cellsList, 141**2)         # SyntaxError: positional argument follows keyword argument"
   ]
  },
  {
   "cell_type": "code",
   "execution_count": null,
   "id": "178c0038",
   "metadata": {},
   "outputs": [],
   "source": [
    "print(\"randomMouseData shape is \" + str(randomMouseData.shape))\n",
    "print(\"randomMouseDataLocation is \" + str(randomMouseDataLocation.shape))"
   ]
  },
  {
   "cell_type": "markdown",
   "id": "209a59a9",
   "metadata": {},
   "source": [
    "#### Generate spikes based on locations (helper function)"
   ]
  },
  {
   "cell_type": "code",
   "execution_count": null,
   "id": "4c6c0628",
   "metadata": {},
   "outputs": [],
   "source": [
    "# function that generates spikes based on locations\n",
    "\n",
    "def generateSpikes(cellsList, coordinates):\n",
    "\n",
    "    coordinates = np.hsplit(coordinates,len(coordinates[0,:]))\n",
    "    data = []\n",
    "    for location in coordinates:\n",
    "        sample = []\n",
    "        for placeCell in cellsList:\n",
    "            sample.append(placeCell.activity(location))\n",
    "        data.append(np.hstack(np.copy(sample)))\n",
    "\n",
    "    data = np.vstack(data)\n",
    "    \n",
    "    return(data)"
   ]
  },
  {
   "cell_type": "markdown",
   "id": "95cdb794",
   "metadata": {},
   "source": [
    "### Drunkard's walk"
   ]
  },
  {
   "cell_type": "code",
   "execution_count": null,
   "id": "ae263f1f",
   "metadata": {},
   "outputs": [],
   "source": [
    "def drunkMouse(cellsList, nSteps, height = height, width = width):\n",
    "\n",
    "    cm = 1\n",
    "    movements = (np.array([[cm],[0]]), np.array([[-cm],[0]]), np.array([[0],[cm]]), np.array([[0],[-cm]]))\n",
    "\n",
    "    dataLocation = []\n",
    "    location = np.array([[width /2],        # first location is the middle of the environment\n",
    "                         [height /2]])\n",
    "\n",
    "\n",
    "    for i in range(nSteps):\n",
    "        dataLocation.append(np.copy(location))      # append(location) was clearly mistake but how about append(location[:,:])\n",
    "        nextMove = random.choice(movements)\n",
    "        location += nextMove\n",
    "        \n",
    "        while (location[0,0] < 0 or location[0,0] > width) or (location[1,0] < 0 or location[1,0] > height):\n",
    "            location -= nextMove\n",
    "            nextMove = random.choice(movements)\n",
    "            location += nextMove\n",
    "\n",
    "    dataLocation = np.hstack(dataLocation)\n",
    "    data = generateSpikes(cellsList, dataLocation)\n",
    "\n",
    "    return (data, dataLocation)"
   ]
  },
  {
   "cell_type": "code",
   "execution_count": null,
   "id": "8ad25354",
   "metadata": {},
   "outputs": [],
   "source": [
    "# t = 1000 * time.time()              # current time in milliseconds\n",
    "# np.random.seed(int(t) % 2**32)\n",
    "\n",
    "drunkMouseData, drunkMouseDataLocation = drunkMouse(cellsList, 10000)\n",
    "\n",
    "print(\"drunkMouseData shape is \" + str(drunkMouseData.shape))\n",
    "print(\"drunkMouseDataLocation is \" + str(drunkMouseDataLocation.shape))"
   ]
  },
  {
   "cell_type": "code",
   "execution_count": null,
   "id": "3fed1401",
   "metadata": {},
   "outputs": [],
   "source": [
    "plt.plot(drunkMouseDataLocation[0,:], drunkMouseDataLocation[1,:])"
   ]
  },
  {
   "cell_type": "markdown",
   "id": "dfb085f3",
   "metadata": {},
   "source": [
    "### Linear Movement"
   ]
  },
  {
   "cell_type": "code",
   "execution_count": null,
   "id": "f061c497",
   "metadata": {},
   "outputs": [],
   "source": [
    "def linearMouse(cellsList, nSteps= 60, height= height, width= width):\n",
    "\n",
    "    cm = 1\n",
    "    dataLocation = []\n",
    "    location = np.array([[width /2],        # first location is the middle of the environment\n",
    "                         [height /2]])\n",
    "\n",
    "    movements = (np.array([[cm],[0]]), np.array([[-cm],[0]]), np.array([[0],[cm]]), np.array([[0],[-cm]]))\n",
    "    nextMove = random.choice(movements)\n",
    "    \n",
    "    for i in range(nSteps):\n",
    "        dataLocation.append(np.copy(location))\n",
    "        location += nextMove\n",
    "        \n",
    "    dataLocation = np.hstack(dataLocation)\n",
    "    data = generateSpikes(cellsList, dataLocation)\n",
    "\n",
    "    return (data, dataLocation)"
   ]
  },
  {
   "cell_type": "code",
   "execution_count": null,
   "id": "4f0c97e4",
   "metadata": {},
   "outputs": [],
   "source": [
    "linearMouseData, linearMouseDataLocation = linearMouse(cellsList, nSteps= 70)\n",
    "\n",
    "print(\"linearMouseData shape is \" + str(linearMouseData.shape))\n",
    "print(\"linearMouseDataLocation is \" + str(linearMouseDataLocation.shape))"
   ]
  },
  {
   "cell_type": "code",
   "execution_count": null,
   "id": "ac54f7cc",
   "metadata": {},
   "outputs": [],
   "source": [
    "plt.plot(linearMouseDataLocation[0,:], linearMouseDataLocation[1,:])"
   ]
  },
  {
   "cell_type": "markdown",
   "id": "65b93d28",
   "metadata": {},
   "source": [
    "# Generating trials"
   ]
  },
  {
   "cell_type": "code",
   "execution_count": null,
   "id": "dd1cc17f",
   "metadata": {},
   "outputs": [],
   "source": [
    "## adding master trials into 3D array\n",
    "\n",
    "def collectTrials(dataGenerator, numTrials, nSteps= 1):\n",
    "\n",
    "    dataList = []\n",
    "    locationList = []\n",
    "    for i in range(numTrials):\n",
    "        (data, location) = dataGenerator(cellsList, nSteps, height, width)\n",
    "\n",
    "        dataList.append(data)\n",
    "        locationList.append(location)\n",
    "\n",
    "    trialsData = np.stack(dataList)\n",
    "    trialsLocation = np.stack(locationList)\n",
    "\n",
    "    return trialsData, trialsLocation\n"
   ]
  },
  {
   "cell_type": "code",
   "execution_count": null,
   "id": "cf27b345",
   "metadata": {},
   "outputs": [],
   "source": [
    "# # trials master mouse\n",
    "# trialsData, trialsLocation = collectTrials(masterMouse, 10)\n",
    "\n",
    "# print(trialsData.shape)\n",
    "# print(trialsLocation.shape)"
   ]
  },
  {
   "cell_type": "code",
   "execution_count": null,
   "id": "0e82ef3a",
   "metadata": {},
   "outputs": [],
   "source": [
    "# # trials random mouse\n",
    "# trialsData, trialsLocation = collectTrials(randomMouse, 10, 20000)\n",
    "\n",
    "# print(trialsData.shape)\n",
    "# print(trialsLocation.shape)"
   ]
  },
  {
   "cell_type": "code",
   "execution_count": null,
   "id": "be131c68",
   "metadata": {},
   "outputs": [],
   "source": [
    "# # trials drunkard's walk mouse\n",
    "# trialsData_train, trialsLocation_train = collectTrials(drunkMouse, 200, 10000)\n",
    "# trialsData_val, trialsLocation_val = collectTrials(drunkMouse, 200, 10000)\n",
    "\n",
    "# print(trialsData_train.shape)\n",
    "# print(trialsLocation_train.shape)"
   ]
  },
  {
   "cell_type": "code",
   "execution_count": null,
   "id": "510cf3af",
   "metadata": {},
   "outputs": [],
   "source": [
    "# trialsData, trialsLocation = collectTrials(linearMouse, 1000, nSteps= 70)\n",
    "\n",
    "# print(trialsData.shape)\n",
    "# print(trialsLocation.shape)"
   ]
  },
  {
   "cell_type": "code",
   "execution_count": null,
   "id": "64e6e63d",
   "metadata": {},
   "outputs": [],
   "source": [
    "# linearMouseLocation = trialsLocation.reshape(2, 70000)          # look closely at what's happening here, the plot shuld not look like this\n",
    "# plt.plot(linearMouseLocation[0,:], linearMouseLocation[1,:])"
   ]
  },
  {
   "cell_type": "code",
   "execution_count": null,
   "id": "a94b3d98",
   "metadata": {},
   "outputs": [],
   "source": [
    "# np.save(\"/Users/jambormike/Documents/School/masters_project/code/project_2/tndm-main/notebooks/testData_train\",trialsData_train)\n",
    "# np.save(\"/Users/jambormike/Documents/School/masters_project/code/project_2/tndm-main/notebooks/testDataLocation_train\",trialsLocation_train)\n",
    "\n",
    "# np.save(\"/Users/jambormike/Documents/School/masters_project/code/project_2/tndm-main/notebooks/testData_val\",trialsData_val)\n",
    "# np.save(\"/Users/jambormike/Documents/School/masters_project/code/project_2/tndm-main/notebooks/testDataLocation_val\",trialsLocation_val)"
   ]
  },
  {
   "cell_type": "markdown",
   "id": "50976fc7",
   "metadata": {},
   "source": [
    "# MasterMouse data exploration"
   ]
  },
  {
   "cell_type": "code",
   "execution_count": null,
   "id": "9c24aae6",
   "metadata": {},
   "outputs": [],
   "source": [
    "# Plotting ordered data function\n",
    "\n",
    "def plotOrderedData(data, height= height, width= width, title= \"title\", units= \"units\", colorbarLabel= \"colorbarLabel\"):\n",
    "\n",
    "    x_coordinates = np.arange(start=0, stop= width +1, step=1)\n",
    "    y_coordinates = np.arange(start=0, stop= height +1, step=1)\n",
    "\n",
    "    X, Y = np.meshgrid(x_coordinates, y_coordinates, indexing = 'xy')\n",
    "    Z = data[:, 0]\n",
    "\n",
    "    for index in range(data.shape[1]):\n",
    "        Z = np.maximum(Z, data[:, index])\n",
    "\n",
    "    Z = Z.reshape(len(x_coordinates),len(y_coordinates))\n",
    "\n",
    "    plt.figure(dpi=100)    # figsize=(width, height)\n",
    "    plt.clf()\n",
    "    plt.contourf(X, Y, Z, cmap = 'jet')\n",
    "    plt.colorbar(label = colorbarLabel, pad = -0.17)\n",
    "    plt.title(title, size = 13)\n",
    "    plt.xlabel(units)\n",
    "    plt.ylabel(units)\n",
    "    plt.axis('square')\n",
    "    plt.show()\n",
    "    pass\n",
    "\n",
    "plotOrderedData(masterMouseData, title= \"Place cells activity plot\", units= \"cm\", colorbarLabel= \"spikes/s\")"
   ]
  },
  {
   "cell_type": "code",
   "execution_count": null,
   "id": "5243bb87",
   "metadata": {},
   "outputs": [],
   "source": [
    "# Turning master mouse data into room plot\n",
    "\n",
    "def plotDataCell(data, index= 0, height= height, width= width, title= \"title\", units= \"units\", colorbarLabel= \"colorbarLabel\"):\n",
    "\n",
    "    cell = data[:,index]\n",
    "\n",
    "    x_coordinates = np.arange(start=0, stop= width +1, step=1)\n",
    "    y_coordinates = np.arange(start=0, stop= height +1, step=1)\n",
    "\n",
    "    X, Y = np.meshgrid(x_coordinates, y_coordinates, indexing = 'xy')\n",
    "\n",
    "    Z = cell.reshape(len(x_coordinates),len(y_coordinates))\n",
    "\n",
    "\n",
    "    plt.figure(dpi=100)    # figsize=(width, height)\n",
    "    plt.clf()\n",
    "    plt.contourf(X, Y, Z, cmap = 'jet')\n",
    "    plt.colorbar(label = colorbarLabel, pad = -0.16)\n",
    "    plt.title(title, size = 13)\n",
    "    plt.xlabel(units)\n",
    "    plt.ylabel(units)\n",
    "    plt.axis('square')\n",
    "    plt.show()\n",
    "\n",
    "    pass\n",
    "\n",
    "index = 3\n",
    "plotDataCell(data= masterMouseData, index= index, title= (\"Place cell i.\" + str(index)), units = \"cm\", colorbarLabel= \"spikes/s\")"
   ]
  },
  {
   "cell_type": "markdown",
   "id": "505af367",
   "metadata": {},
   "source": [
    "## Master Mouse PCA"
   ]
  },
  {
   "cell_type": "code",
   "execution_count": null,
   "id": "dac51e3d",
   "metadata": {},
   "outputs": [],
   "source": [
    "masterZscore = zscore(masterMouseData)\n",
    "masterZscore = np.nan_to_num(masterZscore)                                       ## Do I need this here?\n",
    "\n",
    "masterMousePCA = PCA()\n",
    "masterMousePCA.fit(masterZscore)\n",
    "\n",
    "masterWeights = masterMousePCA.components_                                       # eigenvectors ordered by eigenvalues\n",
    "masterVariance = masterMousePCA.explained_variance_                              # eigenvalues\n",
    "masterExplainedVariance = np.cumsum(masterVariance)/np.sum(masterVariance)\n",
    "masterScores = masterMousePCA.transform(masterZscore)                            # latent variables"
   ]
  },
  {
   "cell_type": "code",
   "execution_count": null,
   "id": "f4f55224",
   "metadata": {},
   "outputs": [],
   "source": [
    "index = 3\n",
    "plotDataCell(data= masterZscore, index= index, title= (\"zScore of cell i.\" + str(index)), units= \"cm\", colorbarLabel= \"SD\")"
   ]
  },
  {
   "cell_type": "code",
   "execution_count": null,
   "id": "4c9729a2",
   "metadata": {},
   "outputs": [],
   "source": [
    "plotOrderedData(masterZscore, title= \"zScores of cells\", units= \"cm\", colorbarLabel= \"SD\")"
   ]
  },
  {
   "cell_type": "code",
   "execution_count": null,
   "id": "1d43eb3e",
   "metadata": {},
   "outputs": [],
   "source": [
    "def plotVariance(variance):\n",
    "    '''\n",
    "    Plots variance (eigenvalues)\n",
    "    Args:\n",
    "        (numpy array of floats) : Vector of eigenvalues   ### look at the shape of the vector\n",
    "    Returns:\n",
    "        Nothing\n",
    "    '''\n",
    "    plt.figure(dpi=100, figsize=(6, 4))             # figsize=(?, 4)\n",
    "    plt.clf()\n",
    "    plt.plot(np.arange(1, len(variance) + 1), variance, 'o-k')\n",
    "\n",
    "    # plt.loglog(np.arange(1, len(variance) + 1), variance, 'o-k')\n",
    "\n",
    "    plt.title('Scree plot', size = 13)\n",
    "    plt.xlabel('Component')\n",
    "    plt.xticks(np.arange(0, len(variance)+1))                       ### is there a better way of doing this\n",
    "    plt.ylabel('Variance')                                          ### eigenvalues\n",
    "    plt.yticks(np.arange(0, max(variance)+0.25, step=0.25))\n",
    "    plt.grid()\n",
    "    plt.show()\n",
    "    \n",
    "    pass\n",
    "\n",
    "plotVariance(masterMousePCA.explained_variance_)"
   ]
  },
  {
   "cell_type": "code",
   "execution_count": null,
   "id": "fca1ccaa",
   "metadata": {},
   "outputs": [],
   "source": [
    "def plotVarianceExplained(explainedVariance):\n",
    "    \"\"\"\n",
    "    Plots explained variance ratio\n",
    "    Args:\n",
    "        explainedVarianceRatio (numpy array of floats) : Vector of variance explained\n",
    "                                                         for each PC\n",
    "    Returns:\n",
    "        Nothing.\n",
    "    \"\"\"\n",
    "    plt.figure(dpi=100, figsize=(6, 4))\n",
    "    plt.clf()\n",
    "    plt.plot(np.arange(1, len(explainedVariance) + 1), explainedVariance, 'o-k')\n",
    "\n",
    "    plt.title('Cumulative sum of explained variance', size = 13)\n",
    "\n",
    "    plt.xlabel('Number of components')\n",
    "    plt.xticks(np.arange(0, len(explainedVariance)+1))                  ### is there a better way of doing this\n",
    "    plt.ylabel('Variance explained')\n",
    "    plt.yticks(np.arange(0, max(explainedVariance)+0.05, step=0.1))\n",
    "\n",
    "    plt.grid()\n",
    "    plt.show()\n",
    "\n",
    "    pass\n",
    "\n",
    "masterExplainedVariance = np.cumsum(masterMousePCA.explained_variance_)/np.sum(masterMousePCA.explained_variance_)\n",
    "plotVarianceExplained(masterExplainedVariance)"
   ]
  },
  {
   "cell_type": "code",
   "execution_count": null,
   "id": "4bd3a904",
   "metadata": {},
   "outputs": [],
   "source": [
    "def plotThreeComponents(scores, location):\n",
    "    '''\n",
    "    plot first three components (latent variables) in 3D scatter plot\n",
    "    Args:\n",
    "        scores: latent variables matrix from PCA\n",
    "    Returns:\n",
    "        Nothing.\n",
    "    '''\n",
    "\n",
    "    # %matplotlib notebook              # does not work in VS code\n",
    "\n",
    "    lv_1, lv_2, lv_3 = scores[:,0], scores[:,1], scores[:,2]\n",
    "    colorMap = colormapLocation(location)\n",
    "\n",
    "    plt.figure(dpi=100, figsize=(7,7))\n",
    "    plt.clf()\n",
    "    # plt.title('First three principal components scatter plot')\n",
    "\n",
    "    ax = plt.axes(projection='3d')\n",
    "    # ax.scatter3D(lv_1, lv_2, lv_3, s = 4)\n",
    "    ax.scatter3D(lv_1, lv_2, lv_3, c= colorMap, s = 4)\n",
    "    \n",
    "    ax.set_xlabel('PC1')\n",
    "    ax.set_ylabel('PC2')\n",
    "    ax.set_zlabel('PC3')\n",
    "    \n",
    "    # ax.view_init(30,30)\n",
    "\n",
    "    plt.show()\n",
    "    pass\n",
    "\n",
    "plotThreeComponents(masterScores,masterMouseDataLocation)"
   ]
  },
  {
   "cell_type": "code",
   "execution_count": null,
   "id": "46aa438a",
   "metadata": {},
   "outputs": [],
   "source": [
    "index = 0\n",
    "plotDataCell(data= masterScores, index= index, title= (\"Principal Component i.\" + str(index)), units= \"cm\", colorbarLabel= \"a.u.\")"
   ]
  },
  {
   "cell_type": "markdown",
   "id": "4fefaad3",
   "metadata": {},
   "source": [
    "### Data reconstruction"
   ]
  },
  {
   "cell_type": "code",
   "execution_count": null,
   "id": "ac318083",
   "metadata": {},
   "outputs": [],
   "source": [
    "# # Master Scores by hand\n",
    "# masterScoresByHand = masterZscore @ masterWeights\n",
    "\n",
    "# K = 100\n",
    "\n",
    "# masterScoresByHandCut = masterScoresByHand[:, :K]\n",
    "# masterWeightsCut = masterWeights[:, :K]\n",
    "\n",
    "# dataRecon = masterScoresByHandCut @ masterWeightsCut.T     #this should give me back approximation of masterZscore\n",
    "\n",
    "# # plotDataCell(dataRecon, 0)\n",
    "\n",
    "# plotOrderedData(dataRecon)"
   ]
  },
  {
   "cell_type": "markdown",
   "id": "3fecce5d",
   "metadata": {},
   "source": [
    "## MasterMouse ICA"
   ]
  },
  {
   "cell_type": "code",
   "execution_count": null,
   "id": "e408a209",
   "metadata": {},
   "outputs": [],
   "source": [
    "# masterICA = FastICA()\n",
    "# masterICA.fit(masterZscore)\n",
    "# masterICAdata = masterICA.transform(masterZscore)\n",
    "\n",
    "# plotOrderedData(masterICAdata)"
   ]
  },
  {
   "cell_type": "code",
   "execution_count": null,
   "id": "6e5a52c6",
   "metadata": {},
   "outputs": [],
   "source": [
    "# index = 0\n",
    "# plotDataCell(data= masterICAdata, index= index, title= (\"Independent Component i.\" + str(index)), units= \"cm\", colorbarLabel= \"a.u.\")"
   ]
  },
  {
   "cell_type": "markdown",
   "id": "3c7d9a94",
   "metadata": {},
   "source": [
    "# Random Mouse Data Exploration"
   ]
  },
  {
   "cell_type": "code",
   "execution_count": null,
   "id": "e85d55f0",
   "metadata": {},
   "outputs": [],
   "source": [
    "randomZscore = zscore(randomMouseData)\n",
    "randomZscore = np.nan_to_num(randomZscore)\n",
    "\n",
    "randomMousePCA = PCA()\n",
    "randomMousePCA.fit(randomZscore)\n",
    "\n",
    "randomWeights = randomMousePCA.components_                                     # eigenvectors ordered by eigenvalues\n",
    "randomVariance = randomMousePCA.explained_variance_                            # eigenvalues\n",
    "randomExplainedVariance = np.cumsum(randomVariance)/np.sum(randomVariance)\n",
    "randomScores = randomMousePCA.transform(randomZscore)                          #latent variables"
   ]
  },
  {
   "cell_type": "code",
   "execution_count": null,
   "id": "b79210a2",
   "metadata": {},
   "outputs": [],
   "source": [
    "plotVariance(randomMousePCA.explained_variance_)"
   ]
  },
  {
   "cell_type": "code",
   "execution_count": null,
   "id": "898ff8af",
   "metadata": {},
   "outputs": [],
   "source": [
    "randomExplainedVariance = np.cumsum(randomMousePCA.explained_variance_)/np.sum(randomMousePCA.explained_variance_)\n",
    "plotVarianceExplained(randomExplainedVariance)"
   ]
  },
  {
   "cell_type": "markdown",
   "id": "94016070",
   "metadata": {},
   "source": [
    "## First 3 components in 3D"
   ]
  },
  {
   "cell_type": "code",
   "execution_count": null,
   "id": "53cb1ca7",
   "metadata": {},
   "outputs": [],
   "source": [
    "plotThreeComponents(randomScores, randomMouseDataLocation)"
   ]
  },
  {
   "cell_type": "markdown",
   "id": "8e47881b",
   "metadata": {},
   "source": [
    "### Data reconstruction"
   ]
  },
  {
   "cell_type": "code",
   "execution_count": null,
   "id": "b5199b91",
   "metadata": {},
   "outputs": [],
   "source": [
    "# # Master Scores by hand\n",
    "# masterScoresByHand = masterZscore @ masterWeights\n",
    "\n",
    "# K = 100\n",
    "\n",
    "# masterScoresByHandCut = masterScoresByHand[:, :K]\n",
    "# randomWeightsCut = randomWeights[:, :K]\n",
    "\n",
    "# dataRecon = masterScoresByHandCut @ randomWeightsCut.T     #this should give me back approximation of masterZscore\n",
    "\n",
    "# # plotDataCell(dataRecon, 15)\n",
    "# plotOrderedData(dataRecon)"
   ]
  },
  {
   "cell_type": "markdown",
   "id": "a74440b6",
   "metadata": {},
   "source": [
    "### RandomMouse ICA"
   ]
  },
  {
   "cell_type": "code",
   "execution_count": null,
   "id": "69f5c69d",
   "metadata": {},
   "outputs": [],
   "source": [
    "# randomICA = FastICA()\n",
    "# randomICA.fit(randomZscore)\n",
    "# randomICAdata = randomICA.transform(randomZscore)\n",
    "\n",
    "# plotDataCell(randomICAdata, 0)\n",
    "# plt.show()"
   ]
  },
  {
   "cell_type": "markdown",
   "id": "85eecb4f",
   "metadata": {},
   "source": [
    "# UMAP"
   ]
  },
  {
   "cell_type": "markdown",
   "id": "c90422e6",
   "metadata": {},
   "source": [
    "## Master"
   ]
  },
  {
   "cell_type": "code",
   "execution_count": null,
   "id": "403ec6f8",
   "metadata": {},
   "outputs": [],
   "source": [
    "# sns.pairplot(masterMouseData)"
   ]
  },
  {
   "cell_type": "code",
   "execution_count": null,
   "id": "747a6ca1",
   "metadata": {},
   "outputs": [],
   "source": [
    "# def draw_umap(data, n_neighbors=15, min_dist=0.1, n_components=2, metric='euclidean', title=''):\n",
    "#     reducer = umap.UMAP(n_neighbors=n_neighbors, min_dist=min_dist, n_components=n_components, metric=metric)\n",
    "\n",
    "#     u = reducer.fit_transform(data)\n",
    "\n",
    "#     fig = plt.figure()\n",
    "    \n",
    "#     if n_components == 1:\n",
    "#         ax = fig.add_subplot(111)\n",
    "#         ax.scatter(u[:,0], range(len(u)), c=data)\n",
    "#     if n_components == 2:\n",
    "#         ax = fig.add_subplot(111)\n",
    "#         ax.scatter(u[:,0], u[:,1], c=data)\n",
    "#     if n_components == 3:\n",
    "#         ax = fig.add_subplot(111, projection='3d')\n",
    "#         ax.scatter(u[:,0], u[:,1], u[:,2], c=data, s=100)\n",
    "#     plt.title(title, fontsize=18)"
   ]
  },
  {
   "cell_type": "code",
   "execution_count": null,
   "id": "26d2b64c",
   "metadata": {},
   "outputs": [],
   "source": [
    "masterReducer = umap.UMAP()     # n_neighbors=\n",
    "masterEmbedding = masterReducer.fit_transform(masterZscore)\n",
    "\n",
    "print(masterEmbedding.shape)\n"
   ]
  },
  {
   "cell_type": "code",
   "execution_count": null,
   "id": "3642a9b9",
   "metadata": {},
   "outputs": [],
   "source": [
    "plt.figure(dpi=100)\n",
    "plt.scatter(masterEmbedding[:, 0], masterEmbedding[:, 1], c= colormapLocation(masterMouseDataLocation))\n",
    "\n",
    "plt.title((\"UMAP (master) embedding of \" + str(n_cells) + \" cells\"), size= 13)\n",
    "plt.xlabel(\"a.u.\")\n",
    "plt.ylabel(\"a.u.\")\n",
    "\n",
    "plt.gca().set_aspect('equal', 'datalim')"
   ]
  },
  {
   "cell_type": "code",
   "execution_count": null,
   "id": "89b56289",
   "metadata": {},
   "outputs": [],
   "source": [
    "## PCA on UMAP\n",
    "\n",
    "umapZscore = zscore(masterEmbedding)\n",
    "umapZscore = np.nan_to_num(umapZscore)                                       ## Do I need this here?\n",
    "\n",
    "umapMousePCA = PCA()\n",
    "umapMousePCA.fit(umapZscore)\n",
    "\n",
    "umapWeights = umapMousePCA.components_                                       # eigenvectors ordered by eigenvalues\n",
    "umapVariance = umapMousePCA.explained_variance_                              # eigenvalues\n",
    "umapExplainedVariance = np.cumsum(umapVariance)/np.sum(umapVariance)\n",
    "umapScores = umapMousePCA.transform(umapZscore)                            # latent variables\n",
    "\n",
    "\n",
    "plt.scatter(umapScores[:, 0], umapScores[:, 1], c= colormapLocation(masterMouseDataLocation))"
   ]
  },
  {
   "cell_type": "markdown",
   "id": "893db201",
   "metadata": {},
   "source": [
    "## Random"
   ]
  },
  {
   "cell_type": "code",
   "execution_count": null,
   "id": "6eb296aa",
   "metadata": {},
   "outputs": [],
   "source": [
    "randomReducer = umap.UMAP()     # n_neighbors=\n",
    "randomEmbedding = randomReducer.fit_transform(randomZscore)\n",
    "\n",
    "print(randomEmbedding.shape)"
   ]
  },
  {
   "cell_type": "code",
   "execution_count": null,
   "id": "f80b1bc8",
   "metadata": {},
   "outputs": [],
   "source": [
    "plt.figure(dpi=100)    # figsize=(width, height)\n",
    "plt.scatter(randomEmbedding[:, 0], randomEmbedding[:, 1], c= colormapLocation(randomMouseDataLocation))\n",
    "\n",
    "plt.title((\"UMAP embedding of \" + str(n_cells) + \" cells\"), size= 13)\n",
    "plt.xlabel(\"a.u.\")\n",
    "plt.ylabel(\"a.u.\")\n",
    "\n",
    "plt.gca().set_aspect('equal', 'datalim')"
   ]
  },
  {
   "cell_type": "code",
   "execution_count": null,
   "id": "026a3c4d",
   "metadata": {},
   "outputs": [],
   "source": [
    "## PCA on UMAP\n",
    "\n",
    "umapZscore = zscore(randomEmbedding)\n",
    "umapZscore = np.nan_to_num(umapZscore)                                       ## Do I need this here?\n",
    "\n",
    "umapMousePCA = PCA()\n",
    "umapMousePCA.fit(umapZscore)\n",
    "\n",
    "umapWeights = umapMousePCA.components_                                       # eigenvectors ordered by eigenvalues\n",
    "umapVariance = umapMousePCA.explained_variance_                              # eigenvalues\n",
    "umapExplainedVariance = np.cumsum(umapVariance)/np.sum(umapVariance)\n",
    "umapScores = umapMousePCA.transform(umapZscore)                            # latent variables\n",
    "\n",
    "\n",
    "plt.scatter(umapScores[:, 0], umapScores[:, 1], c= colormapLocation(randomMouseDataLocation))"
   ]
  },
  {
   "cell_type": "markdown",
   "id": "a3d347de",
   "metadata": {},
   "source": [
    "# Laplacian Eigenmaps (Spectral Embedding)"
   ]
  },
  {
   "cell_type": "markdown",
   "id": "89b067c6",
   "metadata": {},
   "source": [
    "## Master"
   ]
  },
  {
   "cell_type": "code",
   "execution_count": null,
   "id": "9195241a",
   "metadata": {},
   "outputs": [],
   "source": [
    "# masterLaplacian = SpectralEmbedding(n_components = 3)\n",
    "\n",
    "# masterLaplacianEmbedding = masterLaplacian.fit_transform(masterZscore)\n",
    "\n",
    "# # masterLaplacianEmbedding = masterLaplacian.fit_transform(masterMouseData)"
   ]
  },
  {
   "cell_type": "code",
   "execution_count": null,
   "id": "c1ac16a0",
   "metadata": {},
   "outputs": [],
   "source": [
    "# masterLaplacianEmbedding = np.load(\"masterLaplacianEmbedding_20n_run1.npy\")\n",
    "# masterMouseDataLocation = np.load(\"masterMouseDataLocation_20n_run1.npy\")"
   ]
  },
  {
   "cell_type": "code",
   "execution_count": null,
   "id": "7dc4c307",
   "metadata": {},
   "outputs": [],
   "source": [
    "# plt.figure(dpi=100)\n",
    "# plt.scatter(masterLaplacianEmbedding[:, 0], masterLaplacianEmbedding[:, 1], c= colormapLocation(masterMouseDataLocation))\n",
    "\n",
    "# plt.title((\"Laplacian (master) embedding of \" + str(n_cells) + \" cells\"), size= 13)\n",
    "# plt.xlabel(\"a.u.\")\n",
    "# plt.ylabel(\"a.u.\")\n",
    "\n",
    "# plt.gca().set_aspect('equal', 'datalim')"
   ]
  },
  {
   "cell_type": "code",
   "execution_count": null,
   "id": "4e24d1ea",
   "metadata": {},
   "outputs": [],
   "source": [
    "# np.save(\"masterLaplacianEmbedding_20n_run1.npy\", masterLaplacianEmbedding)\n",
    "# np.save(\"masterMouseDataLocation_20n_run1.npy\", masterMouseDataLocation)"
   ]
  },
  {
   "cell_type": "markdown",
   "id": "b6eb8b64",
   "metadata": {},
   "source": [
    "## Random"
   ]
  },
  {
   "cell_type": "code",
   "execution_count": null,
   "id": "19382648",
   "metadata": {},
   "outputs": [],
   "source": [
    "# randomLaplacian = SpectralEmbedding(n_components = 3)\n",
    "\n",
    "# randomLaplacianEmbedding = randomLaplacian.fit_transform(randomZscore)\n",
    "\n",
    "# # randomLaplacianEmbedding = randomLaplacian.fit_transform(randomMouseData)"
   ]
  },
  {
   "cell_type": "code",
   "execution_count": null,
   "id": "99fe3ad3",
   "metadata": {},
   "outputs": [],
   "source": [
    "# randomLaplacianEmbedding = np.load(\"randomLaplacianEmbedding_20n_run1.npy\")\n",
    "# randomMouseDataLocation = np.load(\"randomMouseDataLocation_20n_run1.npy\")"
   ]
  },
  {
   "cell_type": "code",
   "execution_count": null,
   "id": "a4bff321",
   "metadata": {},
   "outputs": [],
   "source": [
    "# plt.figure(dpi=100)\n",
    "# plt.scatter(randomLaplacianEmbedding[:, 0], randomLaplacianEmbedding[:, 1], c= colormapLocation(randomMouseDataLocation))\n",
    "\n",
    "# plt.title((\"Laplacian embedding of \" + str(n_cells) + \" cells\"), size= 13)\n",
    "# plt.xlabel(\"a.u.\")\n",
    "# plt.ylabel(\"a.u.\")\n",
    "\n",
    "# plt.gca().set_aspect('equal', 'datalim')"
   ]
  },
  {
   "cell_type": "code",
   "execution_count": null,
   "id": "38b019f5",
   "metadata": {},
   "outputs": [],
   "source": [
    "# np.save(\"randomLaplacianEmbedding_20n_run1.npy\", randomLaplacianEmbedding)\n",
    "# np.save(\"randomMouseDataLocation_20n_run1.npy\", randomMouseDataLocation)\n",
    "\n",
    "# np.save(\"randomLaplacianEmbedding_100n_run1.npy\", randomLaplacianEmbedding)\n",
    "# np.save(\"randomMouseDataLocation_100n_run1.npy\", randomMouseDataLocation)"
   ]
  },
  {
   "cell_type": "markdown",
   "id": "d64c3c05",
   "metadata": {},
   "source": [
    "# ---------------------------------------------------------------------------------------------------------------"
   ]
  },
  {
   "cell_type": "markdown",
   "id": "10926a72",
   "metadata": {},
   "source": [
    "# Notes, tests, nonsense, etc."
   ]
  },
  {
   "cell_type": "code",
   "execution_count": null,
   "id": "c8b2e372",
   "metadata": {},
   "outputs": [],
   "source": []
  }
 ],
 "metadata": {
  "interpreter": {
   "hash": "133cca28b8fbf851586945f4bfe8e821b24d83d09898b265bbfaccb360573c6b"
  },
  "kernelspec": {
   "display_name": "Python 3.10.4 ('workflow')",
   "language": "python",
   "name": "python3"
  },
  "language_info": {
   "codemirror_mode": {
    "name": "ipython",
    "version": 3
   },
   "file_extension": ".py",
   "mimetype": "text/x-python",
   "name": "python",
   "nbconvert_exporter": "python",
   "pygments_lexer": "ipython3",
   "version": "3.10.4"
  }
 },
 "nbformat": 4,
 "nbformat_minor": 5
}
