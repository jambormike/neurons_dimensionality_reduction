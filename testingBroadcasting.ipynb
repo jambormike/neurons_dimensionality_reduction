{
 "cells": [
  {
   "cell_type": "code",
   "execution_count": 299,
   "id": "aef5e4cc",
   "metadata": {},
   "outputs": [],
   "source": [
    "import numpy as np\n",
    "import matplotlib.pyplot as plt\n",
    "import matplotlib.colors as clrs\n",
    "\n",
    "import random\n",
    "import time\n",
    "\n",
    "from matplotlib import cm\n",
    "from scipy.stats import zscore\n",
    "from sklearn.decomposition import PCA\n",
    "from sklearn.decomposition import FastICA\n",
    "from sklearn.manifold import SpectralEmbedding\n",
    "\n",
    "import umap"
   ]
  },
  {
   "cell_type": "markdown",
   "id": "4b638d22",
   "metadata": {},
   "source": [
    "### Initial assumptions"
   ]
  },
  {
   "cell_type": "code",
   "execution_count": 300,
   "id": "96aa7ef3",
   "metadata": {},
   "outputs": [],
   "source": [
    "# room dimensions in cm. (might break if changed)\n",
    "width = 140\n",
    "height = 140\n",
    "\n",
    "\n",
    "# number of simulated place cells\n",
    "n_cells = 4"
   ]
  },
  {
   "cell_type": "markdown",
   "id": "e66010a5",
   "metadata": {},
   "source": [
    "## Place cell class"
   ]
  },
  {
   "cell_type": "code",
   "execution_count": 301,
   "id": "d29bf04d",
   "metadata": {},
   "outputs": [],
   "source": [
    "# place cell class\n",
    "\n",
    "class PlaceCell(object):\n",
    "\n",
    "    def __init__(self, mu, sigma):\n",
    "\n",
    "        self.mu = mu\n",
    "        self.sigma = sigma\n",
    "        \n",
    "    def gaussian(self, x):\n",
    "    # def gaussian(self, x, y):\n",
    "        \n",
    "        # x = np.array([[x],\n",
    "        #               [y]])\n",
    "\n",
    "        xm = x - self.mu\n",
    "        sigma = self.sigma\n",
    "        \n",
    "        # factor1 = ((2*np.pi)**(-k/2)) * np.linalg.det(sigma)**(-1/2)              # normalization -- (turn into a number), peak firing rate\n",
    "        factor1 = 10            # peak firing rate/ amplitude\n",
    "        factor2 = np.exp((-1/2) * xm.T @ np.linalg.inv(sigma) @ xm)\n",
    "        result = factor1 * factor2\n",
    "        \n",
    "        return result\n",
    "        \n",
    "    def activity(self, x):\n",
    "    # def activity(self, x, y):\n",
    "        activity = np.random.poisson(self.gaussian(x))\n",
    "        # activity = np.random.poisson(self.gaussian(x, y))\n",
    "        return activity"
   ]
  },
  {
   "cell_type": "markdown",
   "id": "d797165c",
   "metadata": {},
   "source": [
    "## Generating and plotting place cells"
   ]
  },
  {
   "cell_type": "markdown",
   "id": "9138cea0",
   "metadata": {},
   "source": [
    "### Test cell"
   ]
  },
  {
   "cell_type": "code",
   "execution_count": 302,
   "id": "7b203c94",
   "metadata": {},
   "outputs": [],
   "source": [
    "# test cell\n",
    "\n",
    "testMu = np.array([[70],    #width\n",
    "                   [70]])   #height\n",
    "testSigma = np.array([[80, 0],\n",
    "                      [0, 80]])\n",
    "                      \n",
    "testCell = PlaceCell(testMu, testSigma)"
   ]
  },
  {
   "cell_type": "markdown",
   "id": "04071fd5",
   "metadata": {},
   "source": [
    "### Plotting test cell"
   ]
  },
  {
   "cell_type": "code",
   "execution_count": 303,
   "id": "178a927c",
   "metadata": {
    "scrolled": false
   },
   "outputs": [
    {
     "data": {
      "image/png": "[encoded data removed]",
      "text/plain": [
       "<Figure size 600x400 with 2 Axes>"
      ]
     },
     "metadata": {
      "needs_background": "light"
     },
     "output_type": "display_data"
    }
   ],
   "source": [
    "### plotting testCell ###\n",
    "\n",
    "def plotTestCell(height = height, width = width):\n",
    "    # be mindful of x and y indicies\n",
    "\n",
    "    x_coordinates = np.arange(start=0, stop= width +1, step=1)\n",
    "    y_coordinates = np.arange(start=0, stop= height +1, step=1)\n",
    "    xLen, yLen = len(x_coordinates), len(y_coordinates)\n",
    "\n",
    "    X, Y = np.meshgrid(x_coordinates, y_coordinates, indexing = 'xy')\n",
    "    Z = np.zeros((yLen, xLen))\n",
    "\n",
    "    for y in range(yLen):\n",
    "        for x in range(xLen):\n",
    "            element = np.array([[x_coordinates[x]],                         # important to be careful about the indexing\n",
    "                                [y_coordinates[y]]])\n",
    "            result = testCell.activity(element)\n",
    "            Z[y][x] = result\n",
    "\n",
    "    plt.figure(dpi=100)\n",
    "    plt.clf()\n",
    "    plt.contourf(X, Y, Z, cmap = 'jet')     # vmin=0, vmax=20\n",
    "    plt.colorbar(label = 'spikes/s', pad = -0.17)    \n",
    "    plt.title(\"Place cell activity plot\", size = 13)\n",
    "    plt.xlabel(\"cm\")\n",
    "    plt.ylabel(\"cm\")\n",
    "    plt.axis('square')\n",
    "    plt.show()\n",
    "    pass\n",
    "    \n",
    "# np.random.seed(10)\n",
    "plotTestCell(height, width)"
   ]
  },
  {
   "cell_type": "markdown",
   "id": "331f5a7e",
   "metadata": {},
   "source": [
    "# Testing broadcasting ____________________________"
   ]
  },
  {
   "cell_type": "code",
   "execution_count": 304,
   "id": "e8e7c760",
   "metadata": {},
   "outputs": [],
   "source": [
    "class PlaceCell(object):\n",
    "\n",
    "    def __init__(self, mu, sigma):\n",
    "\n",
    "        self.mu = mu\n",
    "        self.sigma = sigma\n",
    "        \n",
    "    def gaussian(self, x):        \n",
    "\n",
    "        mu = (self.mu).reshape(2,)\n",
    "        xm = x - mu[..., :]\n",
    "        invsigma = np.linalg.inv(self.sigma)\n",
    "        \n",
    "        alpha = np.einsum('abi,abj,ji->ab', xm, xm, invsigma)\n",
    "\n",
    "        # factor1 = ((2*np.pi)**(-k/2)) * np.linalg.det(sigma)**(-1/2)              # normalization -- (turn into a number), peak firing rate\n",
    "        factor1 = 10            # peak firing rate/ amplitude\n",
    "        factor2 = np.exp((-1/2) * alpha)\n",
    "        result = factor1 * factor2\n",
    "        \n",
    "        return result\n",
    "        \n",
    "    def activity(self, x):\n",
    "        activity = np.random.poisson(self.gaussian(x))\n",
    "        return activity"
   ]
  },
  {
   "cell_type": "code",
   "execution_count": 305,
   "id": "c160c800",
   "metadata": {},
   "outputs": [],
   "source": [
    "testMu = np.array([[70],    #width\n",
    "                   [70]])   #height\n",
    "testSigma = np.array([[80, 0],\n",
    "                      [0, 80]])\n",
    "                      \n",
    "testCell = PlaceCell(testMu, testSigma)"
   ]
  },
  {
   "cell_type": "code",
   "execution_count": 306,
   "id": "759e7697",
   "metadata": {},
   "outputs": [
    {
     "data": {
      "image/png": "[encoded data removed]",
      "text/plain": [
       "<Figure size 600x400 with 2 Axes>"
      ]
     },
     "metadata": {
      "needs_background": "light"
     },
     "output_type": "display_data"
    }
   ],
   "source": [
    "def plotTestCell(height = height, width = width):\n",
    "    # be mindful of x and y indicies\n",
    "\n",
    "    x_coordinates = np.arange(start=0, stop= width +1, step=1)\n",
    "    y_coordinates = np.arange(start=0, stop= height +1, step=1)\n",
    "    xLen, yLen = len(x_coordinates), len(y_coordinates)\n",
    "\n",
    "    X, Y = np.meshgrid(x_coordinates, y_coordinates, indexing = 'xy')\n",
    "    XY = np.dstack([X, Y])\n",
    "    Z = testCell.activity(XY)\n",
    "\n",
    "    # for y in range(yLen):\n",
    "    #     for x in range(xLen):\n",
    "    #         element = np.array([[x_coordinates[x]],                         # important to be careful about the indexing\n",
    "    #                             [y_coordinates[y]]])\n",
    "    #         result = testCell.activity(element)\n",
    "    #         Z[y][x] = result\n",
    "\n",
    "    plt.figure(dpi=100)\n",
    "    plt.clf()\n",
    "    plt.contourf(X, Y, Z, cmap = 'jet')     # vmin=0, vmax=20\n",
    "    plt.colorbar(label = 'spikes/s', pad = -0.17)    \n",
    "    plt.title(\"Place cell activity plot\", size = 13)\n",
    "    plt.xlabel(\"cm\")\n",
    "    plt.ylabel(\"cm\")\n",
    "    plt.axis('square')\n",
    "    plt.show()\n",
    "    pass\n",
    "    \n",
    "# np.random.seed(10)\n",
    "plotTestCell(height, width)"
   ]
  },
  {
   "cell_type": "markdown",
   "id": "240fed16",
   "metadata": {},
   "source": [
    "# Ending testing broadcasting ________________________________________"
   ]
  },
  {
   "cell_type": "markdown",
   "id": "34dd4ee0",
   "metadata": {},
   "source": [
    "### Place Cells list"
   ]
  },
  {
   "cell_type": "code",
   "execution_count": 307,
   "id": "0815dd36",
   "metadata": {},
   "outputs": [],
   "source": [
    "def generatePlaceCells(n_cells, sigma, height = height, width = width):\n",
    "\n",
    "    cellsList = []\n",
    "    for i in range(n_cells):\n",
    "        # mu being location at which the cell is most active \n",
    "        mu = np.array([[random.uniform(0,width)],       # width\n",
    "                       [random.uniform(0,height)]])     # height\n",
    "        \n",
    "        cellsList.append(PlaceCell(mu, sigma))\n",
    "        \n",
    "    return cellsList"
   ]
  },
  {
   "cell_type": "code",
   "execution_count": 308,
   "id": "ea5dbf2a",
   "metadata": {},
   "outputs": [],
   "source": [
    "# generating cells list\n",
    "\n",
    "sigma = np.array([[80, 0],\n",
    "                  [0, 80]])\n",
    "\n",
    "random.seed(10)\n",
    "cellsList = generatePlaceCells(n_cells, sigma, height, width)\n",
    "\n",
    "# seedReset\n",
    "random.seed()"
   ]
  },
  {
   "cell_type": "code",
   "execution_count": 309,
   "id": "aed97e9d",
   "metadata": {},
   "outputs": [
    {
     "data": {
      "image/png": "[encoded data removed]",
      "text/plain": [
       "<Figure size 600x400 with 2 Axes>"
      ]
     },
     "metadata": {
      "needs_background": "light"
     },
     "output_type": "display_data"
    }
   ],
   "source": [
    "def plotCells(cellsList = cellsList, height = height, width = width):\n",
    "    # be mindful of x and y indicies\n",
    "\n",
    "    x_coordinates = np.arange(start=0, stop= width +1, step=1)\n",
    "    y_coordinates = np.arange(start=0, stop= height +1, step=1)\n",
    "    xLen, yLen = len(x_coordinates), len(y_coordinates)\n",
    "\n",
    "    X, Y = np.meshgrid(x_coordinates, y_coordinates, indexing = 'xy')\n",
    "    XY = np.dstack([X, Y])\n",
    "    Z = np.zeros((yLen, xLen))\n",
    "\n",
    "    # for y in range(yLen):\n",
    "    #     for x in range(xLen):\n",
    "    #         location = np.array([[x_coordinates[x]],                    # important to be careful about the indexing\n",
    "    #                              [y_coordinates[y]]])\n",
    "            \n",
    "    for placeCell in cellsList:\n",
    "        cellActivity = placeCell.activity(XY)\n",
    "        Z = np.maximum(Z, cellActivity)\n",
    "\n",
    "\n",
    "    plt.figure(dpi=100)\n",
    "    plt.clf()\n",
    "    plt.contourf(X, Y, Z, cmap = 'jet')\n",
    "    plt.colorbar(label = 'spikes/s', pad = -0.17)\n",
    "    plt.title(str(len(cellsList)) + \" place cells activity plot\", size = 13)\n",
    "    plt.xlabel(\"cm\")\n",
    "    plt.ylabel(\"cm\")\n",
    "    plt.axis('square')\n",
    "    plt.show()\n",
    "    pass\n",
    "\n",
    "# np.random.seed(10)\n",
    "plotCells()"
   ]
  },
  {
   "cell_type": "code",
   "execution_count": 310,
   "metadata": {},
   "outputs": [],
   "source": [
    "location = []\n",
    "\n",
    "for i in range(10**1):\n",
    "    coordinate = np.array([[random.uniform(0,140)],\n",
    "                           [random.uniform(0,140)]])\n",
    "    location.append(coordinate)\n",
    "    "
   ]
  },
  {
   "cell_type": "code",
   "execution_count": 311,
   "metadata": {},
   "outputs": [
    {
     "name": "stdout",
     "output_type": "stream",
     "text": [
      "[[138.30288168 138.30288168 138.30288168 138.30288168 138.30288168]\n",
      " [ 65.39746856  65.39746856  65.39746856  65.39746856  65.39746856]\n",
      " [ 57.3234623   57.3234623   57.3234623   57.3234623   57.3234623 ]\n",
      " [111.62505138 111.62505138 111.62505138 111.62505138 111.62505138]\n",
      " [ 78.47577284  78.47577284  78.47577284  78.47577284  78.47577284]]\n"
     ]
    }
   ],
   "source": [
    "x_coordinates = np.random.random_sample(5) * 140\n",
    "y_coordinates = np.random.random_sample(5) * 140\n",
    "\n",
    "X, Y = np.meshgrid(x_coordinates, y_coordinates, indexing = 'xy')\n",
    "\n",
    "# print(x_coordinates)\n",
    "# print(y_coordinates)\n",
    "\n",
    "print(Y)"
   ]
  }
 ],
 "metadata": {
  "kernelspec": {
   "display_name": "Python 3.10.4 ('workflow')",
   "language": "python",
   "name": "python3"
  },
  "language_info": {
   "codemirror_mode": {
    "name": "ipython",
    "version": 3
   },
   "file_extension": ".py",
   "mimetype": "text/x-python",
   "name": "python",
   "nbconvert_exporter": "python",
   "pygments_lexer": "ipython3",
   "version": "3.10.4"
  },
  "orig_nbformat": 4,
  "vscode": {
   "interpreter": {
    "hash": "133cca28b8fbf851586945f4bfe8e821b24d83d09898b265bbfaccb360573c6b"
   }
  }
 },
 "nbformat": 4,
 "nbformat_minor": 2
}
