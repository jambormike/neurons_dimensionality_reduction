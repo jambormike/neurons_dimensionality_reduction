{
 "cells": [
  {
   "cell_type": "code",
   "execution_count": 8,
   "metadata": {},
   "outputs": [],
   "source": [
    "import numpy as np"
   ]
  },
  {
   "cell_type": "code",
   "execution_count": 9,
   "metadata": {},
   "outputs": [],
   "source": [
    "def  gaussian(x):\n",
    "    mu = np.array([[2],\n",
    "                   [2]])\n",
    "    sigma = np.array([[10, 0],\n",
    "                      [0, 10]])\n",
    "    xm = x - mu\n",
    "    result = np.exp((-1/2) * xm.T @ np.linalg.inv(sigma) @ xm)\n",
    "    return result"
   ]
  },
  {
   "cell_type": "code",
   "execution_count": 10,
   "metadata": {},
   "outputs": [
    {
     "data": {
      "text/plain": [
       "array([[0.67032005, 0.77880078, 0.81873075, 0.77880078, 0.67032005],\n",
       "       [0.77880078, 0.90483742, 0.95122942, 0.90483742, 0.77880078],\n",
       "       [0.81873075, 0.95122942, 1.        , 0.95122942, 0.81873075],\n",
       "       [0.77880078, 0.90483742, 0.95122942, 0.90483742, 0.77880078],\n",
       "       [0.67032005, 0.77880078, 0.81873075, 0.77880078, 0.67032005]])"
      ]
     },
     "execution_count": 10,
     "metadata": {},
     "output_type": "execute_result"
    }
   ],
   "source": [
    "x, y = np.arange(5), np.arange(5)\n",
    "xLen, yLen = len(x), len(y)\n",
    "z1 = np.zeros((xLen, yLen))\n",
    "\n",
    "for y_index in range(yLen):\n",
    "        for x_index in range(xLen):\n",
    "            element = np.array([[x[x_index]],\n",
    "                                [y[y_index]]])\n",
    "            result = gaussian(element)\n",
    "            z1[y_index][x_index] = result\n",
    "\n",
    "z1"
   ]
  },
  {
   "cell_type": "markdown",
   "metadata": {},
   "source": [
    "# ________________________-"
   ]
  },
  {
   "cell_type": "code",
   "execution_count": 11,
   "metadata": {},
   "outputs": [],
   "source": [
    "nx, ny = 5, 5\n",
    "x, y = np.arange(nx), np.arange(ny)\n",
    "X, Y = np.meshgrid(x, y, indexing= 'xy')\n",
    "element = np.array([[X],\n",
    "                    [Y]])\n",
    "# Stack X and Y into a nx x ny x 2 array\n",
    "XY = np.dstack([X, Y])"
   ]
  },
  {
   "cell_type": "code",
   "execution_count": 12,
   "metadata": {},
   "outputs": [],
   "source": [
    "def  gaussian(x):\n",
    "    # Note that I have removed the extra dimension: \n",
    "    # mu is a simple array of shape (2,)\n",
    "    # This is no problem, since we're using einsum\n",
    "    # for the matrix multiplication\n",
    "    mu = np.array([2, 2])\n",
    "    sigma = np.array([[10, 0],\n",
    "                      [0, 10]])\n",
    "    # Broadcast xm to x's shape: (nx, ny, 2)\n",
    "    xm = x - mu[..., :]\n",
    "    invsigma = np.linalg.inv(sigma)\n",
    "    # Compute the (double) matrix multiplication\n",
    "    # Leave the first two dimension (ab) alone\n",
    "    # The other dimensions will sum up to a single scalar\n",
    "    # and thus only the ab dimensions are there in the output\n",
    "    alpha = np.einsum('abi,abj,ji->ab', xm, xm, invsigma)\n",
    "    result = np.exp((-1/2) * alpha)\n",
    "    # The shape of result is (nx, ny)\n",
    "    return result\n"
   ]
  },
  {
   "cell_type": "code",
   "execution_count": 13,
   "metadata": {},
   "outputs": [
    {
     "data": {
      "text/plain": [
       "array([[0.67032005, 0.77880078, 0.81873075, 0.77880078, 0.67032005],\n",
       "       [0.77880078, 0.90483742, 0.95122942, 0.90483742, 0.77880078],\n",
       "       [0.81873075, 0.95122942, 1.        , 0.95122942, 0.81873075],\n",
       "       [0.77880078, 0.90483742, 0.95122942, 0.90483742, 0.77880078],\n",
       "       [0.67032005, 0.77880078, 0.81873075, 0.77880078, 0.67032005]])"
      ]
     },
     "execution_count": 13,
     "metadata": {},
     "output_type": "execute_result"
    }
   ],
   "source": [
    "z2 = gaussian(XY)\n",
    "\n",
    "z2\n"
   ]
  },
  {
   "cell_type": "code",
   "execution_count": 15,
   "metadata": {},
   "outputs": [
    {
     "data": {
      "text/plain": [
       "True"
      ]
     },
     "execution_count": 15,
     "metadata": {},
     "output_type": "execute_result"
    }
   ],
   "source": [
    "np.array_equal(z1,z2)"
   ]
  },
  {
   "cell_type": "markdown",
   "metadata": {},
   "source": [
    "# ____________________"
   ]
  },
  {
   "cell_type": "code",
   "execution_count": 51,
   "metadata": {},
   "outputs": [],
   "source": [
    "def  gaussian(x):\n",
    "\n",
    "    mu = np.array([[2],\n",
    "                   [2]])          \n",
    "    sigma = np.array([[10, 0],\n",
    "                      [0, 10]])\n",
    "\n",
    "    xm = x - mu\n",
    "    result = np.exp((-1/2) * xm.T @ np.linalg.inv(sigma) @ xm)\n",
    "    return result"
   ]
  },
  {
   "cell_type": "code",
   "execution_count": 52,
   "metadata": {},
   "outputs": [
    {
     "name": "stdout",
     "output_type": "stream",
     "text": [
      "[[0 1 2 3 4 0 1 2 3 4 0 1 2 3 4 0 1 2 3 4 0 1 2 3 4]\n",
      " [0 0 0 0 0 1 1 1 1 1 2 2 2 2 2 3 3 3 3 3 4 4 4 4 4]]\n"
     ]
    }
   ],
   "source": [
    "x, y = np.arange(5), np.arange(5)\n",
    "\n",
    "coordinates = []\n",
    "for i in x:\n",
    "    for j in y:\n",
    "        coordinates.append((j,i))\n",
    "\n",
    "coordinates = np.stack(coordinates).T\n",
    "\n",
    "print(coordinates)"
   ]
  },
  {
   "cell_type": "code",
   "execution_count": 53,
   "metadata": {},
   "outputs": [
    {
     "data": {
      "text/plain": [
       "(25, 25)"
      ]
     },
     "execution_count": 53,
     "metadata": {},
     "output_type": "execute_result"
    }
   ],
   "source": [
    "gaussian(coordinates).shape"
   ]
  }
 ],
 "metadata": {
  "kernelspec": {
   "display_name": "Python 3.10.4 ('workflow')",
   "language": "python",
   "name": "python3"
  },
  "language_info": {
   "codemirror_mode": {
    "name": "ipython",
    "version": 3
   },
   "file_extension": ".py",
   "mimetype": "text/x-python",
   "name": "python",
   "nbconvert_exporter": "python",
   "pygments_lexer": "ipython3",
   "version": "3.10.4"
  },
  "orig_nbformat": 4,
  "vscode": {
   "interpreter": {
    "hash": "133cca28b8fbf851586945f4bfe8e821b24d83d09898b265bbfaccb360573c6b"
   }
  }
 },
 "nbformat": 4,
 "nbformat_minor": 2
}
