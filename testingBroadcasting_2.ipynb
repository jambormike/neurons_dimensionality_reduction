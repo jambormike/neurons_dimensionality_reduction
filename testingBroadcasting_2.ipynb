{
 "cells": [
  {
   "cell_type": "code",
   "execution_count": 19,
   "metadata": {},
   "outputs": [],
   "source": [
    "import numpy as np"
   ]
  },
  {
   "cell_type": "code",
   "execution_count": 20,
   "metadata": {},
   "outputs": [],
   "source": [
    "def  gaussian(x):\n",
    "    mu = np.array([[2],\n",
    "                   [2]])\n",
    "    sigma = np.array([[10, 0],\n",
    "                      [0, 10]])\n",
    "    xm = x - mu\n",
    "    result = np.exp((-1/2) * xm.T @ np.linalg.inv(sigma) @ xm)\n",
    "    return result"
   ]
  },
  {
   "cell_type": "code",
   "execution_count": 21,
   "metadata": {},
   "outputs": [
    {
     "data": {
      "text/plain": [
       "array([[0.67032005, 0.77880078, 0.81873075, 0.77880078, 0.67032005],\n",
       "       [0.77880078, 0.90483742, 0.95122942, 0.90483742, 0.77880078],\n",
       "       [0.81873075, 0.95122942, 1.        , 0.95122942, 0.81873075],\n",
       "       [0.77880078, 0.90483742, 0.95122942, 0.90483742, 0.77880078],\n",
       "       [0.67032005, 0.77880078, 0.81873075, 0.77880078, 0.67032005]])"
      ]
     },
     "execution_count": 21,
     "metadata": {},
     "output_type": "execute_result"
    }
   ],
   "source": [
    "x, y = np.arange(5), np.arange(5)\n",
    "xLen, yLen = len(x), len(y)\n",
    "z = np.zeros((xLen, yLen))\n",
    "\n",
    "for y_index in range(yLen):\n",
    "        for x_index in range(xLen):\n",
    "            element = np.array([[x[x_index]],\n",
    "                                [y[y_index]]])\n",
    "            result = gaussian(element)\n",
    "            z[y_index][x_index] = result\n",
    "\n",
    "z"
   ]
  },
  {
   "cell_type": "code",
   "execution_count": 22,
   "metadata": {},
   "outputs": [],
   "source": [
    "def  gaussian(foo):\n",
    "    mu = np.array([[2],\n",
    "                   [2]])\n",
    "    x = np.array([[foo[0]],\n",
    "                  [foo[1]]])\n",
    "    sigma = np.array([[10, 0],\n",
    "                      [0, 10]])\n",
    "    xm = x - mu\n",
    "    result = np.exp((-1/2) * xm.T @ np.linalg.inv(sigma) @ xm)\n",
    "    return result"
   ]
  },
  {
   "cell_type": "code",
   "execution_count": 23,
   "metadata": {},
   "outputs": [
    {
     "name": "stdout",
     "output_type": "stream",
     "text": [
      "[(0, 0), (0, 1), (0, 2), (0, 3), (0, 4), (1, 0), (1, 1), (1, 2), (1, 3), (1, 4), (2, 0), (2, 1), (2, 2), (2, 3), (2, 4), (3, 0), (3, 1), (3, 2), (3, 3), (3, 4), (4, 0), (4, 1), (4, 2), (4, 3), (4, 4)]\n",
      "(2, 2, 2)\n"
     ]
    }
   ],
   "source": [
    "X, Y = np.meshgrid(x, y, indexing= 'xy')\n",
    "\n",
    "coordinates = []\n",
    "for i in x:\n",
    "    for j in y:\n",
    "        coordinates.append((i,j))\n",
    "\n",
    "print(coordinates)\n",
    "\n",
    "# Z = gaussian(element)\n",
    "Z = gaussian(coordinates)\n",
    "\n",
    "print(Z.shape)"
   ]
  }
 ],
 "metadata": {
  "kernelspec": {
   "display_name": "Python 3.10.4 ('workflow')",
   "language": "python",
   "name": "python3"
  },
  "language_info": {
   "codemirror_mode": {
    "name": "ipython",
    "version": 3
   },
   "file_extension": ".py",
   "mimetype": "text/x-python",
   "name": "python",
   "nbconvert_exporter": "python",
   "pygments_lexer": "ipython3",
   "version": "3.10.4"
  },
  "orig_nbformat": 4,
  "vscode": {
   "interpreter": {
    "hash": "133cca28b8fbf851586945f4bfe8e821b24d83d09898b265bbfaccb360573c6b"
   }
  }
 },
 "nbformat": 4,
 "nbformat_minor": 2
}
