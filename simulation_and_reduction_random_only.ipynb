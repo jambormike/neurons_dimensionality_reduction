{
 "cells": [
  {
   "cell_type": "markdown",
   "metadata": {},
   "source": [
    "## Imports"
   ]
  },
  {
   "cell_type": "code",
   "execution_count": null,
   "metadata": {},
   "outputs": [],
   "source": [
    "import numpy as np\n",
    "import matplotlib.pyplot as plt\n",
    "import matplotlib.colors as clrs\n",
    "\n",
    "import random\n",
    "import time\n",
    "\n",
    "from matplotlib import cm\n",
    "from scipy.stats import zscore\n",
    "from scipy.stats.stats import pearsonr\n",
    "from sklearn.decomposition import PCA\n",
    "from sklearn.decomposition import FastICA\n",
    "from sklearn.manifold import SpectralEmbedding\n",
    "\n",
    "import pickle\n",
    "\n",
    "import umap"
   ]
  },
  {
   "cell_type": "markdown",
   "metadata": {},
   "source": [
    "## Initial assumptions"
   ]
  },
  {
   "cell_type": "code",
   "execution_count": null,
   "metadata": {},
   "outputs": [],
   "source": [
    "# room dimensions in cm. (might break if changed)\n",
    "width = 140\n",
    "height = 140\n",
    "\n",
    "\n",
    "# number of simulated place cells\n",
    "n_cells = 75\n",
    "\n",
    "# number of steps inside the environment\n",
    "minutes = 5\n",
    "nSteps = minutes * 600\n",
    "print(str(minutes), \"minutes is\", str(nSteps), \"time bins of 100ms\")\n",
    "\n",
    "# nSteps = 100000\n",
    "\n",
    "# covariance matrix sigma for place cell class\n",
    "sigma = np.array([[80, 0],\n",
    "                  [0, 80]])"
   ]
  },
  {
   "cell_type": "markdown",
   "metadata": {},
   "source": [
    "## Place Cell class"
   ]
  },
  {
   "cell_type": "code",
   "execution_count": null,
   "metadata": {},
   "outputs": [],
   "source": [
    "# place cell class\n",
    "\n",
    "class PlaceCell(object):\n",
    "\n",
    "    def __init__(self, mu, sigma):\n",
    "\n",
    "        self.mu = mu\n",
    "        self.sigma = sigma\n",
    "        \n",
    "    def gaussian(self, x):\n",
    "\n",
    "        xm = x - self.mu\n",
    "        sigma = self.sigma\n",
    "        \n",
    "        factor1 = 4            # peak firing rate\n",
    "        factor2 = (np.exp((-1/2) * xm.T @ np.linalg.inv(sigma) @ xm))\n",
    "        result = factor1 * factor2\n",
    "        \n",
    "        return result\n",
    "        \n",
    "    def activity(self, x):\n",
    "        activity = np.random.poisson(self.gaussian(x))\n",
    "\n",
    "        return activity"
   ]
  },
  {
   "cell_type": "markdown",
   "metadata": {},
   "source": [
    "## Generating and plotting place cells"
   ]
  },
  {
   "cell_type": "markdown",
   "metadata": {},
   "source": [
    "### Generating place cells list"
   ]
  },
  {
   "cell_type": "code",
   "execution_count": null,
   "metadata": {},
   "outputs": [],
   "source": [
    "def generatePlaceCells(n_cells, sigma= sigma, height= height, width= width):\n",
    "\n",
    "    cellsList = []\n",
    "    for i in range(n_cells):\n",
    "        # mu being location at which the cell is most active \n",
    "        mu = np.array([[random.uniform(0,width)],       # width\n",
    "                       [random.uniform(0,height)]])     # height\n",
    "        \n",
    "        cellsList.append(PlaceCell(mu, sigma))\n",
    "        \n",
    "    return cellsList"
   ]
  },
  {
   "cell_type": "code",
   "execution_count": null,
   "metadata": {},
   "outputs": [],
   "source": [
    "# generating cells list\n",
    "\n",
    "cellsList = generatePlaceCells(n_cells, sigma, height, width)\n"
   ]
  },
  {
   "cell_type": "markdown",
   "metadata": {},
   "source": [
    "### Place field plot function"
   ]
  },
  {
   "cell_type": "code",
   "execution_count": null,
   "metadata": {},
   "outputs": [],
   "source": [
    "def plotCells(cellsList= cellsList, height = height, width = width):\n",
    "    # be mindful of x and y indicies\n",
    "\n",
    "    x_coordinates = np.arange(start=0, stop= width +1, step=1)\n",
    "    y_coordinates = np.arange(start=0, stop= height +1, step=1)\n",
    "    xLen, yLen = len(x_coordinates), len(y_coordinates)\n",
    "\n",
    "    X, Y = np.meshgrid(x_coordinates, y_coordinates, indexing = 'xy')\n",
    "    Z = np.zeros((yLen, xLen))\n",
    "\n",
    "    for y in range(yLen):\n",
    "        for x in range(xLen):\n",
    "            location = np.array([[x_coordinates[x]],                    # important to be careful about the indexing\n",
    "                                 [y_coordinates[y]]])\n",
    "            \n",
    "            for placeCell in cellsList:\n",
    "                locationActivity = placeCell.activity(location)\n",
    "\n",
    "                if Z[y][x] < locationActivity:\n",
    "                    Z[y][x] = locationActivity\n",
    "\n",
    "    plt.figure(dpi=100)\n",
    "    plt.clf()\n",
    "    plt.contourf(X, Y, Z, cmap = 'jet')\n",
    "    plt.colorbar(label = 'spikes/ 100ms', pad = -0.17)\n",
    "    plt.title(str(len(cellsList)) + \" place cells activity plot\", size = 13)\n",
    "    plt.xlabel(\"cm\")\n",
    "    plt.ylabel(\"cm\")\n",
    "    plt.axis('square')\n",
    "    plt.show()\n",
    "    pass\n",
    "\n",
    "plotCells()"
   ]
  },
  {
   "cell_type": "markdown",
   "metadata": {},
   "source": [
    "## Color mapping"
   ]
  },
  {
   "cell_type": "code",
   "execution_count": null,
   "metadata": {},
   "outputs": [],
   "source": [
    "def colormapLocation(coordinates, height = height, width = width):\n",
    "\n",
    "    normalizeX = clrs.Normalize(vmin = 0, vmax = width)\n",
    "    normalizeY = clrs.Normalize(vmin = 0, vmax = height)\n",
    "    normX, normY = normalizeX(coordinates[0,:]), normalizeY(coordinates[1,:])\n",
    "\n",
    "    # mapX = cm.get_cmap('Blues')\n",
    "    # mapY = cm.get_cmap('Reds')\n",
    "    mapX = cm.get_cmap('binary')\n",
    "    mapY = cm.get_cmap('spring')\n",
    "\n",
    "    colorValues_X = mapX(normX)\n",
    "    colorValues_Y = mapY(normY)\n",
    "    colorValues = (colorValues_X + colorValues_Y)/2\n",
    "\n",
    "    return colorValues"
   ]
  },
  {
   "cell_type": "code",
   "execution_count": null,
   "metadata": {},
   "outputs": [],
   "source": [
    "def plotColormapEnvironment(height = height, width = width):\n",
    "\n",
    "    x_coordinates = np.arange(start=0, stop= width +1, step=1)\n",
    "    y_coordinates = np.arange(start=0, stop= height +1, step=1)\n",
    "    xLen, yLen = len(x_coordinates), len(y_coordinates)\n",
    "\n",
    "    dataLocation = []\n",
    "    for y in y_coordinates:\n",
    "        for x in x_coordinates:\n",
    "            location = np.array([[x],      #width\n",
    "                                 [y]])     #height\n",
    "            dataLocation.append(location)\n",
    "\n",
    "    colormap = colormapLocation(np.hstack(dataLocation))\n",
    "    environmentColorMap = colormap.reshape(yLen, xLen, 4)       ### I am very confused by the orther of the dimensions now\n",
    "\n",
    "    plt.figure(dpi=100)\n",
    "    plt.clf()\n",
    "    plt.imshow(environmentColorMap)\n",
    "\n",
    "    ## Run the code without the ticks. Then, it chooses strange numbers for x-axis. There is also a minor problem with 140 tick. There is originally 141 coordinates for both axes\n",
    "    plt.xticks([0,20,40,60,80,100,120,140])\n",
    "    plt.yticks([0,20,40,60,80,100,120,140], [140,120,100,80,60,40,20,0])\n",
    "\n",
    "    plt.title(\"Environment colormap\", size = 13)\n",
    "    plt.xlabel(\"cm\")\n",
    "    plt.ylabel(\"cm\")\n",
    "    plt.show()\n",
    "    pass\n",
    "\n",
    "plotColormapEnvironment()"
   ]
  },
  {
   "cell_type": "markdown",
   "metadata": {},
   "source": [
    "## Generating activity data"
   ]
  },
  {
   "cell_type": "markdown",
   "metadata": {},
   "source": [
    "### Randomly teleporting mouse function (RandomMouse)"
   ]
  },
  {
   "cell_type": "code",
   "execution_count": null,
   "metadata": {},
   "outputs": [],
   "source": [
    "def randomMouse(cellsList, nSteps, height= height, width= width):\n",
    "\n",
    "    data = []\n",
    "    dataLocation = []\n",
    "    for i in range(nSteps):\n",
    "        location = np.array([[random.uniform(0,width)],\n",
    "                             [random.uniform(0,height)]])\n",
    "        # dataLocation.append(location)\n",
    "        dataLocation.append(np.copy(location))\n",
    "\n",
    "        sample = []\n",
    "        for placeCell in cellsList:\n",
    "            sample.append(placeCell.activity(location))\n",
    "        data.append(np.hstack(np.copy(sample)))\n",
    "        \n",
    "    data = np.vstack(data)\n",
    "    dataLocation = np.hstack(dataLocation)\n",
    "        \n",
    "    return (data, dataLocation)"
   ]
  },
  {
   "cell_type": "code",
   "execution_count": null,
   "metadata": {},
   "outputs": [],
   "source": [
    "(randomMouseData, randomMouseLocation) = randomMouse(cellsList, nSteps)\n",
    "\n",
    "print(\"randomMouseData shape is \" + str(randomMouseData.shape))\n",
    "print(\"randomMouseLocation is \" + str(randomMouseLocation.shape))"
   ]
  },
  {
   "cell_type": "markdown",
   "metadata": {},
   "source": [
    "# Random Mouse Data Exploration"
   ]
  },
  {
   "cell_type": "markdown",
   "metadata": {},
   "source": [
    "## PCA"
   ]
  },
  {
   "cell_type": "code",
   "execution_count": null,
   "metadata": {},
   "outputs": [],
   "source": [
    "randomZscore = zscore(randomMouseData)\n",
    "randomZscore = np.nan_to_num(randomZscore)\n",
    "\n",
    "randomMousePCA = PCA()\n",
    "randomMousePCA.fit(randomZscore)\n",
    "\n",
    "randomWeights = randomMousePCA.components_                                     # eigenvectors ordered by eigenvalues\n",
    "randomVariance = randomMousePCA.explained_variance_                            # eigenvalues\n",
    "randomExplainedVariance = np.cumsum(randomVariance)/np.sum(randomVariance)\n",
    "randomPCA_scores = randomMousePCA.transform(randomZscore)                          #latent variables"
   ]
  },
  {
   "cell_type": "code",
   "execution_count": null,
   "metadata": {},
   "outputs": [],
   "source": [
    "def plotVariance(variance):\n",
    "    '''\n",
    "    Plots variance (eigenvalues)\n",
    "    Args:\n",
    "        (numpy array of floats) : Vector of eigenvalues   ### look at the shape of the vector\n",
    "    Returns:\n",
    "        Nothing\n",
    "    '''\n",
    "    plt.figure(dpi=100, figsize=(6, 4))             # figsize=(?, 4)\n",
    "    plt.clf()\n",
    "    plt.plot(np.arange(1, len(variance) + 1), variance, 'o-k')\n",
    "\n",
    "    # plt.loglog(np.arange(1, len(variance) + 1), variance, 'o-k')\n",
    "\n",
    "    plt.title('Scree plot', size = 13)\n",
    "    plt.xlabel('Component')\n",
    "    plt.xticks(np.arange(0, len(variance)+1))                       ### is there a better way of doing this\n",
    "    plt.ylabel('Variance')                                          ### eigenvalues\n",
    "    plt.yticks(np.arange(0, max(variance)+0.25, step=0.25))\n",
    "    plt.grid()\n",
    "    plt.show()\n",
    "    \n",
    "    pass\n",
    "\n",
    "plotVariance(randomMousePCA.explained_variance_)"
   ]
  },
  {
   "cell_type": "code",
   "execution_count": null,
   "metadata": {},
   "outputs": [],
   "source": [
    "def plotVarianceExplained(explainedVariance):\n",
    "    \"\"\"\n",
    "    Plots explained variance ratio\n",
    "    Args:\n",
    "        explainedVarianceRatio (numpy array of floats) : Vector of variance explained\n",
    "                                                         for each PC\n",
    "    Returns:\n",
    "        Nothing.\n",
    "    \"\"\"\n",
    "    plt.figure(dpi=100, figsize=(6, 4))\n",
    "    plt.clf()\n",
    "    plt.plot(np.arange(1, len(explainedVariance) + 1), explainedVariance, 'o-k')\n",
    "\n",
    "    plt.title('Cumulative sum of explained variance', size = 13)\n",
    "\n",
    "    plt.xlabel('Number of components')\n",
    "    plt.xticks(np.arange(0, len(explainedVariance)+1))                  ### is there a better way of doing this\n",
    "    plt.ylabel('Variance explained')\n",
    "    plt.yticks(np.arange(0, max(explainedVariance)+0.05, step=0.1))\n",
    "\n",
    "    plt.grid()\n",
    "    plt.show()\n",
    "\n",
    "    pass\n",
    "\n",
    "randomExplainedVariance = np.cumsum(randomMousePCA.explained_variance_)/np.sum(randomMousePCA.explained_variance_)\n",
    "plotVarianceExplained(randomExplainedVariance)"
   ]
  },
  {
   "cell_type": "code",
   "execution_count": null,
   "metadata": {},
   "outputs": [],
   "source": [
    "## plot two components\n",
    "\n",
    "plt.figure(dpi=100)\n",
    "plt.scatter(randomPCA_scores[:, 0], randomPCA_scores[:, 1], c= colormapLocation(randomMouseLocation))\n",
    "\n",
    "plt.title((\"PCA embedding of \" + str(n_cells) + \" cells over \" + str(minutes) + \" minutes\"), size= 13)\n",
    "plt.xlabel(\"a.u.\")\n",
    "plt.ylabel(\"a.u.\")\n",
    "\n",
    "plt.gca().set_aspect('equal', 'datalim')"
   ]
  },
  {
   "cell_type": "markdown",
   "metadata": {},
   "source": [
    "## UMAP"
   ]
  },
  {
   "cell_type": "code",
   "execution_count": null,
   "metadata": {},
   "outputs": [],
   "source": [
    "randomReducer = umap.UMAP()     # n_neighbors=\n",
    "randomUMAP_embedding = randomReducer.fit_transform(randomZscore)\n",
    "\n",
    "print(randomUMAP_embedding.shape)"
   ]
  },
  {
   "cell_type": "code",
   "execution_count": null,
   "metadata": {},
   "outputs": [],
   "source": [
    "plt.figure(dpi=100)    # figsize=(width, height)\n",
    "plt.scatter(randomUMAP_embedding[:, 0], randomUMAP_embedding[:, 1], c= colormapLocation(randomMouseLocation))\n",
    "\n",
    "plt.title((\"UMAP embedding of \" + str(n_cells) + \" cells over \" + str(minutes) + \" minutes\"), size= 13)\n",
    "plt.xlabel(\"a.u.\")\n",
    "plt.ylabel(\"a.u.\")\n",
    "\n",
    "plt.gca().set_aspect('equal', 'datalim')"
   ]
  },
  {
   "cell_type": "code",
   "execution_count": null,
   "metadata": {},
   "outputs": [],
   "source": [
    "## PCA on  master UMAP\n",
    "\n",
    "umapZscore = zscore(randomUMAP_embedding)\n",
    "umapZscore = np.nan_to_num(umapZscore)                                       ## Do I need this here?\n",
    "\n",
    "umapMousePCA = PCA()\n",
    "umapMousePCA.fit(umapZscore)\n",
    "\n",
    "umapWeights = umapMousePCA.components_                                       # eigenvectors ordered by eigenvalues\n",
    "umapVariance = umapMousePCA.explained_variance_                              # eigenvalues\n",
    "umapExplainedVariance = np.cumsum(umapVariance)/np.sum(umapVariance)\n",
    "umapScores = umapMousePCA.transform(umapZscore)                            # latent variables\n"
   ]
  },
  {
   "cell_type": "code",
   "execution_count": null,
   "metadata": {},
   "outputs": [],
   "source": [
    "plt.scatter(umapScores[:, 0], umapScores[:, 1], c= colormapLocation(randomMouseLocation))\n",
    "plt.gca().set_aspect('equal', 'datalim')"
   ]
  },
  {
   "cell_type": "markdown",
   "metadata": {},
   "source": [
    "## Laplacian eigenmaps (spectral embedding)"
   ]
  },
  {
   "cell_type": "code",
   "execution_count": null,
   "metadata": {},
   "outputs": [],
   "source": [
    "randomLaplacian = SpectralEmbedding(n_components = 2)\n",
    "randomLaplacianEmbedding = randomLaplacian.fit_transform(randomZscore)\n"
   ]
  },
  {
   "cell_type": "code",
   "execution_count": null,
   "metadata": {},
   "outputs": [],
   "source": [
    "plt.figure(dpi=100)\n",
    "plt.scatter(randomLaplacianEmbedding[:, 0], randomLaplacianEmbedding[:, 1], c= colormapLocation(randomMouseLocation))\n",
    "\n",
    "plt.title((\"Laplacian embedding of \" + str(n_cells) + \" cells over \" + str(minutes) + \" minutes\"), size= 13)\n",
    "plt.xlabel(\"a.u.\")\n",
    "plt.ylabel(\"a.u.\")\n",
    "\n",
    "plt.gca().set_aspect('equal', 'datalim')"
   ]
  },
  {
   "cell_type": "code",
   "execution_count": null,
   "metadata": {},
   "outputs": [],
   "source": [
    "# ##Save data"
   ]
  },
  {
   "cell_type": "markdown",
   "metadata": {},
   "source": [
    "# Comparing distances"
   ]
  },
  {
   "cell_type": "code",
   "execution_count": null,
   "metadata": {},
   "outputs": [],
   "source": [
    "randomPCA_scores_transpose = randomPCA_scores.T[:2,:]\n",
    "randomUMAP_embedding_transpose = randomUMAP_embedding.T\n",
    "randomLaplacianEmbedding_transpose = randomLaplacianEmbedding.T"
   ]
  },
  {
   "cell_type": "code",
   "execution_count": null,
   "metadata": {},
   "outputs": [],
   "source": [
    "print(\"randomMouseLocation shape is\", randomMouseLocation.shape)\n",
    "print(\"randomPCA_scores_transpose shape is\", randomPCA_scores_transpose.shape)\n",
    "print(\"randomUMAP_embedding_transpose shape is\", randomUMAP_embedding_transpose.shape)\n",
    "print(\"randomLaplacianEmbedding_transpose shape is\", randomLaplacianEmbedding_transpose.shape)"
   ]
  },
  {
   "cell_type": "code",
   "execution_count": null,
   "metadata": {},
   "outputs": [],
   "source": [
    "def pickRandomLocations(locations, number_of_samples= 15):\n",
    "    locationsLength = locations.shape[1]\n",
    "\n",
    "    samples = random.sample(range(locationsLength), number_of_samples)\n",
    "\n",
    "    print(\"locationsLength is\", locationsLength)\n",
    "    print(\"number_of_samples is\", number_of_samples)\n",
    "\n",
    "    return samples\n",
    "\n",
    "coordinate_indicies = pickRandomLocations(randomMouseLocation, nSteps)"
   ]
  },
  {
   "cell_type": "code",
   "execution_count": null,
   "metadata": {},
   "outputs": [],
   "source": [
    "def distanceMeasure(coordinates, coordinate_indicies):\n",
    "\n",
    "    locations = []\n",
    "    for i in coordinate_indicies:\n",
    "        locations.append(coordinates[: , i])\n",
    "\n",
    "    locations_copy = locations.copy()\n",
    "    used_locations = []\n",
    "    distances = []\n",
    "\n",
    "    for i in range(len(locations)):\n",
    "        current_coordinate = locations_copy.pop(0)\n",
    "        try:\n",
    "            distance = np.linalg.norm(current_coordinate - used_locations[-1])\n",
    "        except IndexError:\n",
    "            distance = 0\n",
    "\n",
    "        distances.append(distance)\n",
    "        used_locations.append(current_coordinate)\n",
    "\n",
    "    return distances[1:]"
   ]
  },
  {
   "cell_type": "code",
   "execution_count": null,
   "metadata": {},
   "outputs": [],
   "source": [
    "random_real_distance = distanceMeasure(randomMouseLocation, coordinate_indicies)\n",
    "random_umap_distance = distanceMeasure(randomUMAP_embedding_transpose, coordinate_indicies)\n",
    "random_pca_distance = distanceMeasure(randomPCA_scores_transpose, coordinate_indicies)\n",
    "random_laplacian_distance = distanceMeasure(randomLaplacianEmbedding_transpose, coordinate_indicies)"
   ]
  },
  {
   "cell_type": "code",
   "execution_count": null,
   "metadata": {},
   "outputs": [],
   "source": [
    "plt.scatter(random_real_distance, random_umap_distance, s= 1)"
   ]
  },
  {
   "cell_type": "code",
   "execution_count": null,
   "metadata": {},
   "outputs": [],
   "source": [
    "plt.scatter(random_real_distance, random_pca_distance, s= 1)"
   ]
  },
  {
   "cell_type": "code",
   "execution_count": null,
   "metadata": {},
   "outputs": [],
   "source": [
    "plt.scatter(random_real_distance, random_laplacian_distance, s= 1)"
   ]
  },
  {
   "cell_type": "code",
   "execution_count": null,
   "metadata": {},
   "outputs": [],
   "source": [
    "print(pearsonr(random_real_distance, random_umap_distance))\n",
    "print(pearsonr(random_real_distance, random_pca_distance))\n",
    "print(pearsonr(random_real_distance, random_laplacian_distance))"
   ]
  },
  {
   "cell_type": "markdown",
   "metadata": {},
   "source": [
    "## Experimental script"
   ]
  },
  {
   "cell_type": "code",
   "execution_count": null,
   "metadata": {},
   "outputs": [],
   "source": [
    "def pca_function(randomZscore):\n",
    "\n",
    "    # from sklearn.decomposition import PCA                                               # I don't have to import it here, unlike UMAP\n",
    "\n",
    "    randomMousePCA = PCA(n_components= 2)\n",
    "    randomPCA_scores = randomMousePCA.fit_transform(randomZscore)\n",
    "\n",
    "\n",
    "    return randomPCA_scores"
   ]
  },
  {
   "cell_type": "code",
   "execution_count": null,
   "metadata": {},
   "outputs": [],
   "source": [
    "def umap_function(randomZscore):\n",
    "    \n",
    "    import umap                                                                         # for some reason I have to import it in the function\n",
    "    \n",
    "    randomReducer = umap.UMAP()     # n_neighbors=\n",
    "    randomUMAP_embedding = randomReducer.fit_transform(randomZscore)\n",
    "\n",
    "    # print(randomUMAP_embedding.shape)\n",
    "\n",
    "    return randomUMAP_embedding"
   ]
  },
  {
   "cell_type": "code",
   "execution_count": null,
   "metadata": {},
   "outputs": [],
   "source": [
    "def laplacian_function(randomZscore):\n",
    "\n",
    "    # from sklearn.manifold import SpectralEmbedding                                      # I don't have to import it here, unlike UMAP\n",
    "\n",
    "    randomLaplacian = SpectralEmbedding(n_components= 2)\n",
    "    randomLaplacianEmbedding = randomLaplacian.fit_transform(randomZscore)\n",
    "\n",
    "    return randomLaplacianEmbedding"
   ]
  },
  {
   "cell_type": "markdown",
   "metadata": {},
   "source": [
    "## Start"
   ]
  },
  {
   "cell_type": "code",
   "execution_count": null,
   "metadata": {},
   "outputs": [],
   "source": [
    "n_cells = 10                        # number of cells to begin with\n",
    "cells_addition = 10                 # number of cells to add per i loop\n",
    "\n",
    "desired_n_samples = 5000            # number of locations to compare distances between\n",
    "\n",
    "iLoops = 30                         # number of loops for the main loop i\n",
    "jLoops = 5                          # number of experiments\n",
    "kLoops = 6                          # number of time additions (+5min, max 6)\n",
    "\n",
    "minutes = 30                        # time of the longest experiment\n",
    "\n",
    "master_data_list = []               # list to contain all axperimental results\n",
    "master_cell_list = []               # list to contain all cell lists\n",
    "\n",
    "for i in range(1, iLoops +1):\n",
    "    print(\"Main loop i:\", i, \"out of\", iLoops, \"initiated. Number of cells:\", n_cells)\n",
    "    j_data_list = []\n",
    "    j_cell_list = []\n",
    "    for j in range(1, jLoops +1):\n",
    "        print(\"#\" * 100)\n",
    "        nSteps = minutes * 600\n",
    "        print(\"Inner loop j:\", j,\"out of\", jLoops, \"initiated\")\n",
    "        cell_List = generatePlaceCells(n_cells)\n",
    "        j_cell_list.append(cell_List)\n",
    "        (randomMouseData, randomMouseLocation) = randomMouse(cell_List, nSteps)\n",
    "        randomZscore = np.nan_to_num(zscore(randomMouseData))\n",
    "        print(\"data generated, randomZscore(data) shape is \" + str(randomZscore.shape) +\", randomMouseLocation shape is \" + str(randomMouseLocation.shape))\n",
    "\n",
    "        k_data_list=[]\n",
    "        time_cut = 3000\n",
    "        for k in range(1, kLoops +1):\n",
    "            print(\"_\" * 100)\n",
    "            lowest_data_list = []\n",
    "            print(\"Inner loop k:\", k,\"out of\", kLoops, \"initiated\")\n",
    "            randomMouseLocation_cut = randomMouseLocation[:,:time_cut]\n",
    "            randomZscore_cut = randomZscore[:time_cut,:]\n",
    "\n",
    "            pca_embedding = pca_function(randomZscore_cut).T\n",
    "            print(\"PCA done,\", \"pca_embedding shape is\", pca_embedding.shape)\n",
    "\n",
    "            laplacian_embedding = laplacian_function(randomZscore_cut).T\n",
    "            print(\"Laplacian done,\", \"Laplaciand_embedding shape is\", laplacian_embedding.shape)\n",
    "\n",
    "            umap_embedding = umap_function(randomZscore_cut).T\n",
    "            print(\"UMAP done,\", \"UMAP_embedding shape is\", umap_embedding.shape)\n",
    "\n",
    "            if time_cut < desired_n_samples:\n",
    "                n_samples = time_cut\n",
    "            else:\n",
    "                n_samples = desired_n_samples\n",
    "\n",
    "            coordinate_indicies = random.sample(range(time_cut), n_samples)\n",
    "            real_distance = distanceMeasure(randomMouseLocation_cut, coordinate_indicies)\n",
    "            pca_distance = distanceMeasure(pca_embedding, coordinate_indicies)\n",
    "            laplacian_distance = distanceMeasure(laplacian_embedding, coordinate_indicies)\n",
    "            umap_distance = distanceMeasure(umap_embedding, coordinate_indicies)\n",
    "\n",
    "            real_data = [randomMouseLocation_cut, real_distance]\n",
    "            lowest_data_list.append(real_data)\n",
    "            pca_data = [pca_embedding, pca_distance]\n",
    "            lowest_data_list.append(pca_data)\n",
    "            laplacian_data = [laplacian_embedding, laplacian_distance]\n",
    "            lowest_data_list.append(laplacian_data)\n",
    "            umap_data = [umap_embedding, umap_distance]\n",
    "            lowest_data_list.append(umap_data)\n",
    "\n",
    "            k_data_list.append(lowest_data_list)\n",
    "            time_cut += 3000\n",
    "\n",
    "        print()\n",
    "\n",
    "        j_data_list.append(k_data_list)\n",
    "    \n",
    "    master_cell_list.append(j_cell_list)\n",
    "    master_data_list.append(j_data_list)\n",
    "    n_cells += cells_addition\n",
    "\n",
    "    print()\n",
    "    print()\n",
    "\n",
    "pickle.dump(master_cell_list, open(\"master_cell_list.pickle\", \"wb\"))\n",
    "pickle.dump(master_data_list, open(\"master_data_list.pickle\", \"wb\"))\n",
    "\n",
    "print(\"SCRIPT FINISHED SUCCESSFULLY\")\n",
    "\n"
   ]
  },
  {
   "cell_type": "code",
   "execution_count": null,
   "metadata": {},
   "outputs": [],
   "source": [
    "data = master_data_list[3][0][0][3][0].T\n",
    "color = master_data_list[3][0][0][0][0]\n",
    "\n",
    "cells = master_cell_list[0][0]"
   ]
  },
  {
   "cell_type": "code",
   "execution_count": null,
   "metadata": {},
   "outputs": [],
   "source": [
    "plt.figure(dpi=100)    # figsize=(width, height)\n",
    "plt.scatter(data[:, 0], data[:, 1], c= colormapLocation(color))\n",
    "\n",
    "plt.title((\"UMAP embedding of \" + str(n_cells) + \" cells over \" + str(minutes) + \" minutes\"), size= 13)\n",
    "plt.xlabel(\"a.u.\")\n",
    "plt.ylabel(\"a.u.\")\n",
    "\n",
    "plt.gca().set_aspect('equal', 'datalim')"
   ]
  },
  {
   "cell_type": "code",
   "execution_count": null,
   "metadata": {},
   "outputs": [],
   "source": [
    "len(cells)\n",
    "\n",
    "plotCells(cells)"
   ]
  }
 ],
 "metadata": {
  "kernelspec": {
   "display_name": "Python 3.10.4 ('workflow')",
   "language": "python",
   "name": "python3"
  },
  "language_info": {
   "codemirror_mode": {
    "name": "ipython",
    "version": 3
   },
   "file_extension": ".py",
   "mimetype": "text/x-python",
   "name": "python",
   "nbconvert_exporter": "python",
   "pygments_lexer": "ipython3",
   "version": "3.10.4"
  },
  "orig_nbformat": 4,
  "vscode": {
   "interpreter": {
    "hash": "133cca28b8fbf851586945f4bfe8e821b24d83d09898b265bbfaccb360573c6b"
   }
  }
 },
 "nbformat": 4,
 "nbformat_minor": 2
}
