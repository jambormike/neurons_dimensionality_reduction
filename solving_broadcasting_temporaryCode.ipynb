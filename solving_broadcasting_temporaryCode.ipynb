{
 "cells": [
  {
   "cell_type": "markdown",
   "metadata": {},
   "source": [
    "## Problem"
   ]
  },
  {
   "cell_type": "code",
   "execution_count": 9,
   "metadata": {},
   "outputs": [],
   "source": [
    "import numpy as np\n",
    "def  gaussian(x):\n",
    "    mu = np.array([[2],\n",
    "                   [2]])\n",
    "    sigma = np.array([[10, 0],\n",
    "                      [0, 10]])\n",
    "    xm = x - mu\n",
    "    result = np.exp((-1/2) * xm.T @ np.linalg.inv(sigma) @ xm)\n",
    "    return result"
   ]
  },
  {
   "cell_type": "code",
   "execution_count": 10,
   "metadata": {},
   "outputs": [],
   "source": [
    "x, y = np.arange(5), np.arange(5)\n",
    "xLen, yLen = len(x), len(y)\n",
    "z = np.zeros((yLen, xLen))\n",
    "\n",
    "for y_index in range(yLen):\n",
    "        for x_index in range(xLen):\n",
    "            element = np.array([[x[x_index]],\n",
    "                                [y[y_index]]])\n",
    "            result = gaussian(element)\n",
    "            z[y_index][x_index] = result"
   ]
  },
  {
   "cell_type": "code",
   "execution_count": 11,
   "metadata": {},
   "outputs": [
    {
     "ename": "ValueError",
     "evalue": "operands could not be broadcast together with shapes (2,1,5,5) (2,1) ",
     "output_type": "error",
     "traceback": [
      "\u001b[0;31m---------------------------------------------------------------------------\u001b[0m",
      "\u001b[0;31mValueError\u001b[0m                                Traceback (most recent call last)",
      "\u001b[1;32m/Users/jambormike/Documents/Programming/masters_project/project_2/neurons_dimensionality_reduction/solving_broadcasting_temporaryCode.ipynb Cell 4\u001b[0m in \u001b[0;36m<cell line: 4>\u001b[0;34m()\u001b[0m\n\u001b[1;32m      <a href='vscode-notebook-cell:/Users/jambormike/Documents/Programming/masters_project/project_2/neurons_dimensionality_reduction/solving_broadcasting_temporaryCode.ipynb#W3sZmlsZQ%3D%3D?line=0'>1</a>\u001b[0m X, Y \u001b[39m=\u001b[39m np\u001b[39m.\u001b[39mmeshgrid(x, y, indexing\u001b[39m=\u001b[39m \u001b[39m'\u001b[39m\u001b[39mxy\u001b[39m\u001b[39m'\u001b[39m)\n\u001b[1;32m      <a href='vscode-notebook-cell:/Users/jambormike/Documents/Programming/masters_project/project_2/neurons_dimensionality_reduction/solving_broadcasting_temporaryCode.ipynb#W3sZmlsZQ%3D%3D?line=1'>2</a>\u001b[0m element \u001b[39m=\u001b[39m np\u001b[39m.\u001b[39marray([[X],\n\u001b[1;32m      <a href='vscode-notebook-cell:/Users/jambormike/Documents/Programming/masters_project/project_2/neurons_dimensionality_reduction/solving_broadcasting_temporaryCode.ipynb#W3sZmlsZQ%3D%3D?line=2'>3</a>\u001b[0m                     [Y]])\n\u001b[0;32m----> <a href='vscode-notebook-cell:/Users/jambormike/Documents/Programming/masters_project/project_2/neurons_dimensionality_reduction/solving_broadcasting_temporaryCode.ipynb#W3sZmlsZQ%3D%3D?line=3'>4</a>\u001b[0m Z \u001b[39m=\u001b[39m gaussian(element)\n",
      "\u001b[1;32m/Users/jambormike/Documents/Programming/masters_project/project_2/neurons_dimensionality_reduction/solving_broadcasting_temporaryCode.ipynb Cell 4\u001b[0m in \u001b[0;36mgaussian\u001b[0;34m(x)\u001b[0m\n\u001b[1;32m      <a href='vscode-notebook-cell:/Users/jambormike/Documents/Programming/masters_project/project_2/neurons_dimensionality_reduction/solving_broadcasting_temporaryCode.ipynb#W3sZmlsZQ%3D%3D?line=2'>3</a>\u001b[0m mu \u001b[39m=\u001b[39m np\u001b[39m.\u001b[39marray([[\u001b[39m2\u001b[39m],\n\u001b[1;32m      <a href='vscode-notebook-cell:/Users/jambormike/Documents/Programming/masters_project/project_2/neurons_dimensionality_reduction/solving_broadcasting_temporaryCode.ipynb#W3sZmlsZQ%3D%3D?line=3'>4</a>\u001b[0m                [\u001b[39m2\u001b[39m]])\n\u001b[1;32m      <a href='vscode-notebook-cell:/Users/jambormike/Documents/Programming/masters_project/project_2/neurons_dimensionality_reduction/solving_broadcasting_temporaryCode.ipynb#W3sZmlsZQ%3D%3D?line=4'>5</a>\u001b[0m sigma \u001b[39m=\u001b[39m np\u001b[39m.\u001b[39marray([[\u001b[39m10\u001b[39m, \u001b[39m0\u001b[39m],\n\u001b[1;32m      <a href='vscode-notebook-cell:/Users/jambormike/Documents/Programming/masters_project/project_2/neurons_dimensionality_reduction/solving_broadcasting_temporaryCode.ipynb#W3sZmlsZQ%3D%3D?line=5'>6</a>\u001b[0m                   [\u001b[39m0\u001b[39m, \u001b[39m10\u001b[39m]])\n\u001b[0;32m----> <a href='vscode-notebook-cell:/Users/jambormike/Documents/Programming/masters_project/project_2/neurons_dimensionality_reduction/solving_broadcasting_temporaryCode.ipynb#W3sZmlsZQ%3D%3D?line=6'>7</a>\u001b[0m xm \u001b[39m=\u001b[39m x \u001b[39m-\u001b[39;49m mu\n\u001b[1;32m      <a href='vscode-notebook-cell:/Users/jambormike/Documents/Programming/masters_project/project_2/neurons_dimensionality_reduction/solving_broadcasting_temporaryCode.ipynb#W3sZmlsZQ%3D%3D?line=7'>8</a>\u001b[0m result \u001b[39m=\u001b[39m np\u001b[39m.\u001b[39mexp((\u001b[39m-\u001b[39m\u001b[39m1\u001b[39m\u001b[39m/\u001b[39m\u001b[39m2\u001b[39m) \u001b[39m*\u001b[39m xm\u001b[39m.\u001b[39mT \u001b[39m@\u001b[39m np\u001b[39m.\u001b[39mlinalg\u001b[39m.\u001b[39minv(sigma) \u001b[39m@\u001b[39m xm)\n\u001b[1;32m      <a href='vscode-notebook-cell:/Users/jambormike/Documents/Programming/masters_project/project_2/neurons_dimensionality_reduction/solving_broadcasting_temporaryCode.ipynb#W3sZmlsZQ%3D%3D?line=8'>9</a>\u001b[0m \u001b[39mreturn\u001b[39;00m result\n",
      "\u001b[0;31mValueError\u001b[0m: operands could not be broadcast together with shapes (2,1,5,5) (2,1) "
     ]
    }
   ],
   "source": [
    "X, Y = np.meshgrid(x, y, indexing= 'xy')\n",
    "element = np.array([[X],\n",
    "                    [Y]])\n",
    "Z = gaussian(element)"
   ]
  },
  {
   "cell_type": "markdown",
   "metadata": {},
   "source": [
    "## 1st solution"
   ]
  },
  {
   "cell_type": "code",
   "execution_count": 12,
   "metadata": {},
   "outputs": [],
   "source": [
    "nx, ny = 5, 5\n",
    "x, y = np.arange(nx), np.arange(ny)\n",
    "X, Y = np.meshgrid(x, y, indexing= 'xy')\n",
    "element = np.array([[X],\n",
    "                    [Y]])\n",
    "# Stack X and Y into a nx x ny x 2 array\n",
    "XY = np.dstack([X, Y])"
   ]
  },
  {
   "cell_type": "code",
   "execution_count": 13,
   "metadata": {},
   "outputs": [],
   "source": [
    "def  gaussian(x):\n",
    "    # Note that I have removed the extra dimension: \n",
    "    # mu is a simple array of shape (2,)\n",
    "    # This is no problem, since we're using einsum\n",
    "    # for the matrix multiplication\n",
    "    mu = np.array([2, 2])\n",
    "    sigma = np.array([[10, 0],\n",
    "                      [0, 10]])\n",
    "    # Broadcast xm to x's shape: (nx, ny, 2)\n",
    "    xm = x - mu[..., :]\n",
    "    invsigma = np.linalg.inv(sigma)\n",
    "    # Compute the (double) matrix multiplication\n",
    "    # Leave the first two dimension (ab) alone\n",
    "    # The other dimensions will sum up to a single scalar\n",
    "    # and thus only the ab dimensions are there in the output\n",
    "    alpha = np.einsum('abi,abj,ji->ab', xm, xm, invsigma)\n",
    "    result = np.exp((-1/2) * alpha)\n",
    "    # The shape of result is (nx, ny)\n",
    "    return result"
   ]
  },
  {
   "cell_type": "code",
   "execution_count": 14,
   "metadata": {},
   "outputs": [
    {
     "data": {
      "text/plain": [
       "array([[0.67032005, 0.77880078, 0.81873075, 0.77880078, 0.67032005],\n",
       "       [0.77880078, 0.90483742, 0.95122942, 0.90483742, 0.77880078],\n",
       "       [0.81873075, 0.95122942, 1.        , 0.95122942, 0.81873075],\n",
       "       [0.77880078, 0.90483742, 0.95122942, 0.90483742, 0.77880078],\n",
       "       [0.67032005, 0.77880078, 0.81873075, 0.77880078, 0.67032005]])"
      ]
     },
     "execution_count": 14,
     "metadata": {},
     "output_type": "execute_result"
    }
   ],
   "source": [
    "gaussian(XY)"
   ]
  },
  {
   "cell_type": "markdown",
   "metadata": {},
   "source": [
    "## 2nd solution"
   ]
  },
  {
   "cell_type": "code",
   "execution_count": 15,
   "metadata": {},
   "outputs": [],
   "source": [
    "def  gaussian(x):\n",
    "    mu = np.array([[2],\n",
    "                   [2]])\n",
    "    sigma = np.array([[10, 0],\n",
    "                      [0, 10]])\n",
    "    xm = x - mu\n",
    "    xmt =xm.swapaxes(-2,-1)\n",
    "    result = np.exp((-1/2) * xmt @ np.linalg.inv(sigma) @ xm)\n",
    "    return result"
   ]
  },
  {
   "cell_type": "code",
   "execution_count": 16,
   "metadata": {},
   "outputs": [
    {
     "data": {
      "text/plain": [
       "(3, 4, 1, 1)"
      ]
     },
     "execution_count": 16,
     "metadata": {},
     "output_type": "execute_result"
    }
   ],
   "source": [
    "gaussian(np.ones((3,4,2,1))).shape"
   ]
  },
  {
   "cell_type": "code",
   "execution_count": null,
   "metadata": {},
   "outputs": [],
   "source": []
  }
 ],
 "metadata": {
  "kernelspec": {
   "display_name": "Python 3.10.4 ('workflow')",
   "language": "python",
   "name": "python3"
  },
  "language_info": {
   "codemirror_mode": {
    "name": "ipython",
    "version": 3
   },
   "file_extension": ".py",
   "mimetype": "text/x-python",
   "name": "python",
   "nbconvert_exporter": "python",
   "pygments_lexer": "ipython3",
   "version": "3.10.4"
  },
  "orig_nbformat": 4,
  "vscode": {
   "interpreter": {
    "hash": "133cca28b8fbf851586945f4bfe8e821b24d83d09898b265bbfaccb360573c6b"
   }
  }
 },
 "nbformat": 4,
 "nbformat_minor": 2
}
